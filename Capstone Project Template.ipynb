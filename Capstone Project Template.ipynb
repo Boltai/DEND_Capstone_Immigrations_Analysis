{
 "cells": [
  {
   "cell_type": "code",
   "execution_count": 2,
   "metadata": {
    "editable": true
   },
   "outputs": [],
   "source": [
    "import pandas as pd\n",
    "import os\n",
    "import re\n",
    "import pyspark"
   ]
  },
  {
   "cell_type": "code",
   "execution_count": 3,
   "metadata": {
    "editable": true
   },
   "outputs": [],
   "source": [
    "from pyspark.sql import SparkSession, DataFrame\n",
    "from pyspark.sql.functions import udf"
   ]
  },
  {
   "cell_type": "code",
   "execution_count": 4,
   "metadata": {
    "editable": true
   },
   "outputs": [],
   "source": [
    "spark = SparkSession.builder.\\\n",
    "config(\"spark.jars.packages\",\"saurfang:spark-sas7bdat:2.0.0-s_2.11\")\\\n",
    ".enableHiveSupport().getOrCreate()"
   ]
  },
  {
   "cell_type": "markdown",
   "metadata": {
    "editable": true
   },
   "source": [
    "# Step 1: Scope the Project and Gather Data\n",
    "\n",
    "## Scope \n",
    "- The goal is to create an ETL pipeline with given data sets, so that users can make queries to see if there is relationship between immigration and demographics of the US state. \n",
    "\n",
    "## Data Model\n",
    "- Resulting schema will follow ERD below\n",
    "\n",
    "![ERD](./ERD.PNG)\n",
    "\n",
    "## Describe and Gather Data \n",
    "### I94 Immigration Data\n",
    "- This data comes from the US National Tourism and Trade Office. A data dictionary is included in the workspace. [This](https://travel.trade.gov/research/reports/i94/historical/2016.html) is where the data comes from. There's a sample file so you can take a look at the data in csv format before reading it all in. "
   ]
  },
  {
   "cell_type": "code",
   "execution_count": 5,
   "metadata": {
    "editable": true
   },
   "outputs": [],
   "source": [
    "# Reading the sample data \n",
    "df_immigration = spark.read.parquet(\"sas_data\")"
   ]
  },
  {
   "cell_type": "code",
   "execution_count": 6,
   "metadata": {
    "editable": true
   },
   "outputs": [
    {
     "name": "stdout",
     "output_type": "stream",
     "text": [
      "root\n",
      " |-- cicid: double (nullable = true)\n",
      " |-- i94yr: double (nullable = true)\n",
      " |-- i94mon: double (nullable = true)\n",
      " |-- i94cit: double (nullable = true)\n",
      " |-- i94res: double (nullable = true)\n",
      " |-- i94port: string (nullable = true)\n",
      " |-- arrdate: double (nullable = true)\n",
      " |-- i94mode: double (nullable = true)\n",
      " |-- i94addr: string (nullable = true)\n",
      " |-- depdate: double (nullable = true)\n",
      " |-- i94bir: double (nullable = true)\n",
      " |-- i94visa: double (nullable = true)\n",
      " |-- count: double (nullable = true)\n",
      " |-- dtadfile: string (nullable = true)\n",
      " |-- visapost: string (nullable = true)\n",
      " |-- occup: string (nullable = true)\n",
      " |-- entdepa: string (nullable = true)\n",
      " |-- entdepd: string (nullable = true)\n",
      " |-- entdepu: string (nullable = true)\n",
      " |-- matflag: string (nullable = true)\n",
      " |-- biryear: double (nullable = true)\n",
      " |-- dtaddto: string (nullable = true)\n",
      " |-- gender: string (nullable = true)\n",
      " |-- insnum: string (nullable = true)\n",
      " |-- airline: string (nullable = true)\n",
      " |-- admnum: double (nullable = true)\n",
      " |-- fltno: string (nullable = true)\n",
      " |-- visatype: string (nullable = true)\n",
      "\n"
     ]
    }
   ],
   "source": [
    "# Printing schema\n",
    "df_immigration.printSchema()"
   ]
  },
  {
   "cell_type": "markdown",
   "metadata": {
    "editable": true
   },
   "source": [
    "- You can see what each column represents in I94_SAS_Labels_Descriptions.SAS file "
   ]
  },
  {
   "cell_type": "code",
   "execution_count": 7,
   "metadata": {
    "editable": true
   },
   "outputs": [
    {
     "data": {
      "text/html": [
       "<div>\n",
       "<style scoped>\n",
       "    .dataframe tbody tr th:only-of-type {\n",
       "        vertical-align: middle;\n",
       "    }\n",
       "\n",
       "    .dataframe tbody tr th {\n",
       "        vertical-align: top;\n",
       "    }\n",
       "\n",
       "    .dataframe thead th {\n",
       "        text-align: right;\n",
       "    }\n",
       "</style>\n",
       "<table border=\"1\" class=\"dataframe\">\n",
       "  <thead>\n",
       "    <tr style=\"text-align: right;\">\n",
       "      <th></th>\n",
       "      <th>cicid</th>\n",
       "      <th>i94yr</th>\n",
       "      <th>i94mon</th>\n",
       "      <th>i94cit</th>\n",
       "      <th>i94res</th>\n",
       "      <th>i94port</th>\n",
       "      <th>arrdate</th>\n",
       "      <th>i94mode</th>\n",
       "      <th>i94addr</th>\n",
       "      <th>depdate</th>\n",
       "      <th>...</th>\n",
       "      <th>entdepu</th>\n",
       "      <th>matflag</th>\n",
       "      <th>biryear</th>\n",
       "      <th>dtaddto</th>\n",
       "      <th>gender</th>\n",
       "      <th>insnum</th>\n",
       "      <th>airline</th>\n",
       "      <th>admnum</th>\n",
       "      <th>fltno</th>\n",
       "      <th>visatype</th>\n",
       "    </tr>\n",
       "  </thead>\n",
       "  <tbody>\n",
       "    <tr>\n",
       "      <th>0</th>\n",
       "      <td>5748517.0</td>\n",
       "      <td>2016.0</td>\n",
       "      <td>4.0</td>\n",
       "      <td>245.0</td>\n",
       "      <td>438.0</td>\n",
       "      <td>LOS</td>\n",
       "      <td>20574.0</td>\n",
       "      <td>1.0</td>\n",
       "      <td>CA</td>\n",
       "      <td>20582.0</td>\n",
       "      <td>...</td>\n",
       "      <td>None</td>\n",
       "      <td>M</td>\n",
       "      <td>1976.0</td>\n",
       "      <td>10292016</td>\n",
       "      <td>F</td>\n",
       "      <td>None</td>\n",
       "      <td>QF</td>\n",
       "      <td>9.495387e+10</td>\n",
       "      <td>00011</td>\n",
       "      <td>B1</td>\n",
       "    </tr>\n",
       "    <tr>\n",
       "      <th>1</th>\n",
       "      <td>5748518.0</td>\n",
       "      <td>2016.0</td>\n",
       "      <td>4.0</td>\n",
       "      <td>245.0</td>\n",
       "      <td>438.0</td>\n",
       "      <td>LOS</td>\n",
       "      <td>20574.0</td>\n",
       "      <td>1.0</td>\n",
       "      <td>NV</td>\n",
       "      <td>20591.0</td>\n",
       "      <td>...</td>\n",
       "      <td>None</td>\n",
       "      <td>M</td>\n",
       "      <td>1984.0</td>\n",
       "      <td>10292016</td>\n",
       "      <td>F</td>\n",
       "      <td>None</td>\n",
       "      <td>VA</td>\n",
       "      <td>9.495562e+10</td>\n",
       "      <td>00007</td>\n",
       "      <td>B1</td>\n",
       "    </tr>\n",
       "    <tr>\n",
       "      <th>2</th>\n",
       "      <td>5748519.0</td>\n",
       "      <td>2016.0</td>\n",
       "      <td>4.0</td>\n",
       "      <td>245.0</td>\n",
       "      <td>438.0</td>\n",
       "      <td>LOS</td>\n",
       "      <td>20574.0</td>\n",
       "      <td>1.0</td>\n",
       "      <td>WA</td>\n",
       "      <td>20582.0</td>\n",
       "      <td>...</td>\n",
       "      <td>None</td>\n",
       "      <td>M</td>\n",
       "      <td>1987.0</td>\n",
       "      <td>10292016</td>\n",
       "      <td>M</td>\n",
       "      <td>None</td>\n",
       "      <td>DL</td>\n",
       "      <td>9.495641e+10</td>\n",
       "      <td>00040</td>\n",
       "      <td>B1</td>\n",
       "    </tr>\n",
       "    <tr>\n",
       "      <th>3</th>\n",
       "      <td>5748520.0</td>\n",
       "      <td>2016.0</td>\n",
       "      <td>4.0</td>\n",
       "      <td>245.0</td>\n",
       "      <td>438.0</td>\n",
       "      <td>LOS</td>\n",
       "      <td>20574.0</td>\n",
       "      <td>1.0</td>\n",
       "      <td>WA</td>\n",
       "      <td>20588.0</td>\n",
       "      <td>...</td>\n",
       "      <td>None</td>\n",
       "      <td>M</td>\n",
       "      <td>1987.0</td>\n",
       "      <td>10292016</td>\n",
       "      <td>F</td>\n",
       "      <td>None</td>\n",
       "      <td>DL</td>\n",
       "      <td>9.495645e+10</td>\n",
       "      <td>00040</td>\n",
       "      <td>B1</td>\n",
       "    </tr>\n",
       "    <tr>\n",
       "      <th>4</th>\n",
       "      <td>5748521.0</td>\n",
       "      <td>2016.0</td>\n",
       "      <td>4.0</td>\n",
       "      <td>245.0</td>\n",
       "      <td>438.0</td>\n",
       "      <td>LOS</td>\n",
       "      <td>20574.0</td>\n",
       "      <td>1.0</td>\n",
       "      <td>WA</td>\n",
       "      <td>20588.0</td>\n",
       "      <td>...</td>\n",
       "      <td>None</td>\n",
       "      <td>M</td>\n",
       "      <td>1988.0</td>\n",
       "      <td>10292016</td>\n",
       "      <td>M</td>\n",
       "      <td>None</td>\n",
       "      <td>DL</td>\n",
       "      <td>9.495639e+10</td>\n",
       "      <td>00040</td>\n",
       "      <td>B1</td>\n",
       "    </tr>\n",
       "  </tbody>\n",
       "</table>\n",
       "<p>5 rows × 28 columns</p>\n",
       "</div>"
      ],
      "text/plain": [
       "       cicid   i94yr  i94mon  i94cit  i94res i94port  arrdate  i94mode  \\\n",
       "0  5748517.0  2016.0     4.0   245.0   438.0     LOS  20574.0      1.0   \n",
       "1  5748518.0  2016.0     4.0   245.0   438.0     LOS  20574.0      1.0   \n",
       "2  5748519.0  2016.0     4.0   245.0   438.0     LOS  20574.0      1.0   \n",
       "3  5748520.0  2016.0     4.0   245.0   438.0     LOS  20574.0      1.0   \n",
       "4  5748521.0  2016.0     4.0   245.0   438.0     LOS  20574.0      1.0   \n",
       "\n",
       "  i94addr  depdate   ...     entdepu  matflag  biryear   dtaddto gender  \\\n",
       "0      CA  20582.0   ...        None        M   1976.0  10292016      F   \n",
       "1      NV  20591.0   ...        None        M   1984.0  10292016      F   \n",
       "2      WA  20582.0   ...        None        M   1987.0  10292016      M   \n",
       "3      WA  20588.0   ...        None        M   1987.0  10292016      F   \n",
       "4      WA  20588.0   ...        None        M   1988.0  10292016      M   \n",
       "\n",
       "  insnum airline        admnum  fltno visatype  \n",
       "0   None      QF  9.495387e+10  00011       B1  \n",
       "1   None      VA  9.495562e+10  00007       B1  \n",
       "2   None      DL  9.495641e+10  00040       B1  \n",
       "3   None      DL  9.495645e+10  00040       B1  \n",
       "4   None      DL  9.495639e+10  00040       B1  \n",
       "\n",
       "[5 rows x 28 columns]"
      ]
     },
     "execution_count": 7,
     "metadata": {},
     "output_type": "execute_result"
    }
   ],
   "source": [
    "# Printing first 5 rows of the data set \n",
    "df_immigration.limit(5).toPandas()"
   ]
  },
  {
   "cell_type": "markdown",
   "metadata": {
    "editable": true
   },
   "source": [
    "### U.S City Demographic Data \n",
    "- U.S City Demographic Data : This data comes from OpenSoft. You can read more about it [here](https://public.opendatasoft.com/explore/dataset/us-cities-demographics/export/)."
   ]
  },
  {
   "cell_type": "code",
   "execution_count": 39,
   "metadata": {
    "editable": true
   },
   "outputs": [],
   "source": [
    "# Reading the demographic data\n",
    "df_demographic = spark.read.option(\"delimiter\",\";\").option(\"header\", True).csv(\"us-cities-demographics.csv\")"
   ]
  },
  {
   "cell_type": "code",
   "execution_count": 32,
   "metadata": {
    "editable": true
   },
   "outputs": [
    {
     "name": "stdout",
     "output_type": "stream",
     "text": [
      "root\n",
      " |-- City: string (nullable = true)\n",
      " |-- State: string (nullable = true)\n",
      " |-- Median Age: string (nullable = true)\n",
      " |-- Male Population: string (nullable = true)\n",
      " |-- Female Population: string (nullable = true)\n",
      " |-- Total Population: string (nullable = true)\n",
      " |-- Number of Veterans: string (nullable = true)\n",
      " |-- Foreign-born: string (nullable = true)\n",
      " |-- Average Household Size: string (nullable = true)\n",
      " |-- State Code: string (nullable = true)\n",
      " |-- Race: string (nullable = true)\n",
      " |-- Count: string (nullable = true)\n",
      "\n"
     ]
    }
   ],
   "source": [
    "# Printing schema\n",
    "df_demographic.printSchema()"
   ]
  },
  {
   "cell_type": "code",
   "execution_count": 10,
   "metadata": {
    "editable": true
   },
   "outputs": [
    {
     "data": {
      "text/html": [
       "<div>\n",
       "<style scoped>\n",
       "    .dataframe tbody tr th:only-of-type {\n",
       "        vertical-align: middle;\n",
       "    }\n",
       "\n",
       "    .dataframe tbody tr th {\n",
       "        vertical-align: top;\n",
       "    }\n",
       "\n",
       "    .dataframe thead th {\n",
       "        text-align: right;\n",
       "    }\n",
       "</style>\n",
       "<table border=\"1\" class=\"dataframe\">\n",
       "  <thead>\n",
       "    <tr style=\"text-align: right;\">\n",
       "      <th></th>\n",
       "      <th>City</th>\n",
       "      <th>State</th>\n",
       "      <th>Median Age</th>\n",
       "      <th>Male Population</th>\n",
       "      <th>Female Population</th>\n",
       "      <th>Total Population</th>\n",
       "      <th>Number of Veterans</th>\n",
       "      <th>Foreign-born</th>\n",
       "      <th>Average Household Size</th>\n",
       "      <th>State Code</th>\n",
       "      <th>Race</th>\n",
       "      <th>Count</th>\n",
       "    </tr>\n",
       "  </thead>\n",
       "  <tbody>\n",
       "    <tr>\n",
       "      <th>0</th>\n",
       "      <td>Silver Spring</td>\n",
       "      <td>Maryland</td>\n",
       "      <td>33.8</td>\n",
       "      <td>40601</td>\n",
       "      <td>41862</td>\n",
       "      <td>82463</td>\n",
       "      <td>1562</td>\n",
       "      <td>30908</td>\n",
       "      <td>2.6</td>\n",
       "      <td>MD</td>\n",
       "      <td>Hispanic or Latino</td>\n",
       "      <td>25924</td>\n",
       "    </tr>\n",
       "    <tr>\n",
       "      <th>1</th>\n",
       "      <td>Quincy</td>\n",
       "      <td>Massachusetts</td>\n",
       "      <td>41.0</td>\n",
       "      <td>44129</td>\n",
       "      <td>49500</td>\n",
       "      <td>93629</td>\n",
       "      <td>4147</td>\n",
       "      <td>32935</td>\n",
       "      <td>2.39</td>\n",
       "      <td>MA</td>\n",
       "      <td>White</td>\n",
       "      <td>58723</td>\n",
       "    </tr>\n",
       "    <tr>\n",
       "      <th>2</th>\n",
       "      <td>Hoover</td>\n",
       "      <td>Alabama</td>\n",
       "      <td>38.5</td>\n",
       "      <td>38040</td>\n",
       "      <td>46799</td>\n",
       "      <td>84839</td>\n",
       "      <td>4819</td>\n",
       "      <td>8229</td>\n",
       "      <td>2.58</td>\n",
       "      <td>AL</td>\n",
       "      <td>Asian</td>\n",
       "      <td>4759</td>\n",
       "    </tr>\n",
       "    <tr>\n",
       "      <th>3</th>\n",
       "      <td>Rancho Cucamonga</td>\n",
       "      <td>California</td>\n",
       "      <td>34.5</td>\n",
       "      <td>88127</td>\n",
       "      <td>87105</td>\n",
       "      <td>175232</td>\n",
       "      <td>5821</td>\n",
       "      <td>33878</td>\n",
       "      <td>3.18</td>\n",
       "      <td>CA</td>\n",
       "      <td>Black or African-American</td>\n",
       "      <td>24437</td>\n",
       "    </tr>\n",
       "    <tr>\n",
       "      <th>4</th>\n",
       "      <td>Newark</td>\n",
       "      <td>New Jersey</td>\n",
       "      <td>34.6</td>\n",
       "      <td>138040</td>\n",
       "      <td>143873</td>\n",
       "      <td>281913</td>\n",
       "      <td>5829</td>\n",
       "      <td>86253</td>\n",
       "      <td>2.73</td>\n",
       "      <td>NJ</td>\n",
       "      <td>White</td>\n",
       "      <td>76402</td>\n",
       "    </tr>\n",
       "  </tbody>\n",
       "</table>\n",
       "</div>"
      ],
      "text/plain": [
       "               City          State Median Age Male Population  \\\n",
       "0     Silver Spring       Maryland       33.8           40601   \n",
       "1            Quincy  Massachusetts       41.0           44129   \n",
       "2            Hoover        Alabama       38.5           38040   \n",
       "3  Rancho Cucamonga     California       34.5           88127   \n",
       "4            Newark     New Jersey       34.6          138040   \n",
       "\n",
       "  Female Population Total Population Number of Veterans Foreign-born  \\\n",
       "0             41862            82463               1562        30908   \n",
       "1             49500            93629               4147        32935   \n",
       "2             46799            84839               4819         8229   \n",
       "3             87105           175232               5821        33878   \n",
       "4            143873           281913               5829        86253   \n",
       "\n",
       "  Average Household Size State Code                       Race  Count  \n",
       "0                    2.6         MD         Hispanic or Latino  25924  \n",
       "1                   2.39         MA                      White  58723  \n",
       "2                   2.58         AL                      Asian   4759  \n",
       "3                   3.18         CA  Black or African-American  24437  \n",
       "4                   2.73         NJ                      White  76402  "
      ]
     },
     "execution_count": 10,
     "metadata": {},
     "output_type": "execute_result"
    }
   ],
   "source": [
    "df_demographic.limit(5).toPandas()"
   ]
  },
  {
   "cell_type": "code",
   "execution_count": 207,
   "metadata": {
    "editable": true
   },
   "outputs": [
    {
     "data": {
      "text/html": [
       "<div>\n",
       "<style scoped>\n",
       "    .dataframe tbody tr th:only-of-type {\n",
       "        vertical-align: middle;\n",
       "    }\n",
       "\n",
       "    .dataframe tbody tr th {\n",
       "        vertical-align: top;\n",
       "    }\n",
       "\n",
       "    .dataframe thead th {\n",
       "        text-align: right;\n",
       "    }\n",
       "</style>\n",
       "<table border=\"1\" class=\"dataframe\">\n",
       "  <thead>\n",
       "    <tr style=\"text-align: right;\">\n",
       "      <th></th>\n",
       "      <th>City</th>\n",
       "      <th>State</th>\n",
       "      <th>Male Population</th>\n",
       "      <th>Female Population</th>\n",
       "      <th>Total Population</th>\n",
       "      <th>State Code</th>\n",
       "      <th>Race</th>\n",
       "      <th>Count</th>\n",
       "    </tr>\n",
       "  </thead>\n",
       "  <tbody>\n",
       "    <tr>\n",
       "      <th>0</th>\n",
       "      <td>Newark</td>\n",
       "      <td>New Jersey</td>\n",
       "      <td>138040</td>\n",
       "      <td>143873</td>\n",
       "      <td>281913</td>\n",
       "      <td>NJ</td>\n",
       "      <td>White</td>\n",
       "      <td>76402</td>\n",
       "    </tr>\n",
       "    <tr>\n",
       "      <th>1</th>\n",
       "      <td>Newark</td>\n",
       "      <td>New Jersey</td>\n",
       "      <td>138040</td>\n",
       "      <td>143873</td>\n",
       "      <td>281913</td>\n",
       "      <td>NJ</td>\n",
       "      <td>Black or African-American</td>\n",
       "      <td>144961</td>\n",
       "    </tr>\n",
       "    <tr>\n",
       "      <th>2</th>\n",
       "      <td>Newark</td>\n",
       "      <td>New Jersey</td>\n",
       "      <td>138040</td>\n",
       "      <td>143873</td>\n",
       "      <td>281913</td>\n",
       "      <td>NJ</td>\n",
       "      <td>Asian</td>\n",
       "      <td>7349</td>\n",
       "    </tr>\n",
       "    <tr>\n",
       "      <th>3</th>\n",
       "      <td>Newark</td>\n",
       "      <td>New Jersey</td>\n",
       "      <td>138040</td>\n",
       "      <td>143873</td>\n",
       "      <td>281913</td>\n",
       "      <td>NJ</td>\n",
       "      <td>American Indian and Alaska Native</td>\n",
       "      <td>2268</td>\n",
       "    </tr>\n",
       "    <tr>\n",
       "      <th>4</th>\n",
       "      <td>Newark</td>\n",
       "      <td>New Jersey</td>\n",
       "      <td>138040</td>\n",
       "      <td>143873</td>\n",
       "      <td>281913</td>\n",
       "      <td>NJ</td>\n",
       "      <td>Hispanic or Latino</td>\n",
       "      <td>100432</td>\n",
       "    </tr>\n",
       "  </tbody>\n",
       "</table>\n",
       "</div>"
      ],
      "text/plain": [
       "     City       State  Male Population  Female Population  Total Population  \\\n",
       "0  Newark  New Jersey           138040             143873            281913   \n",
       "1  Newark  New Jersey           138040             143873            281913   \n",
       "2  Newark  New Jersey           138040             143873            281913   \n",
       "3  Newark  New Jersey           138040             143873            281913   \n",
       "4  Newark  New Jersey           138040             143873            281913   \n",
       "\n",
       "  State Code                               Race   Count  \n",
       "0         NJ                              White   76402  \n",
       "1         NJ          Black or African-American  144961  \n",
       "2         NJ                              Asian    7349  \n",
       "3         NJ  American Indian and Alaska Native    2268  \n",
       "4         NJ                 Hispanic or Latino  100432  "
      ]
     },
     "execution_count": 207,
     "metadata": {},
     "output_type": "execute_result"
    }
   ],
   "source": [
    "df_demographic.select('*').filter(col('City') == 'Newark').toPandas()"
   ]
  },
  {
   "cell_type": "markdown",
   "metadata": {
    "editable": true
   },
   "source": [
    "### Foreign Country Code Data\n",
    "- This data set is extracted from I94_SAS_Labels_Description.SAS file. "
   ]
  },
  {
   "cell_type": "code",
   "execution_count": 58,
   "metadata": {
    "editable": true
   },
   "outputs": [
    {
     "data": {
      "text/plain": [
       "\"582 =  'MEXICO Air Sea, and Not Reported (I-94, no land arrivals)'\\n\""
      ]
     },
     "execution_count": 58,
     "metadata": {},
     "output_type": "execute_result"
    }
   ],
   "source": [
    "foreign_country = 'foreign_country.txt'\n",
    "with open(foreign_country) as f:\n",
    "    lines = f.readlines()\n",
    "lines[0]"
   ]
  },
  {
   "cell_type": "code",
   "execution_count": 67,
   "metadata": {
    "editable": true
   },
   "outputs": [
    {
     "data": {
      "text/plain": [
       "\"582 =  'MEXICO Air Sea, and Not Reported (I-94, no land arrivals)'\\n\""
      ]
     },
     "execution_count": 67,
     "metadata": {},
     "output_type": "execute_result"
    }
   ],
   "source": [
    "lines = [line.replace('\"','') for line in lines]\n",
    "lines[0]"
   ]
  },
  {
   "cell_type": "code",
   "execution_count": 84,
   "metadata": {
    "editable": true
   },
   "outputs": [],
   "source": [
    "regexp = re.compile(r\"^(\\d{3})\\s*=\\s*\\'(.*)\\'.*\")\n",
    "matches = [regexp.match(line) for line in lines]\n",
    "country_dict = {\n",
    "    'country_code' : list(),\n",
    "    'country_name' : list()\n",
    "}\n",
    "\n",
    "for m in matches:\n",
    "    if m is None:\n",
    "        continue\n",
    "    country_dict['country_code'].append(int(m.group(1)))\n",
    "    country_dict['country_name'].append(m.group(2))\n",
    "\n",
    "pdf_foreign_country = pd.DataFrame.from_dict(country_dict)"
   ]
  },
  {
   "cell_type": "code",
   "execution_count": 85,
   "metadata": {
    "editable": true
   },
   "outputs": [
    {
     "data": {
      "text/html": [
       "<div>\n",
       "<style scoped>\n",
       "    .dataframe tbody tr th:only-of-type {\n",
       "        vertical-align: middle;\n",
       "    }\n",
       "\n",
       "    .dataframe tbody tr th {\n",
       "        vertical-align: top;\n",
       "    }\n",
       "\n",
       "    .dataframe thead th {\n",
       "        text-align: right;\n",
       "    }\n",
       "</style>\n",
       "<table border=\"1\" class=\"dataframe\">\n",
       "  <thead>\n",
       "    <tr style=\"text-align: right;\">\n",
       "      <th></th>\n",
       "      <th>country_code</th>\n",
       "      <th>country_name</th>\n",
       "    </tr>\n",
       "  </thead>\n",
       "  <tbody>\n",
       "    <tr>\n",
       "      <th>0</th>\n",
       "      <td>582</td>\n",
       "      <td>MEXICO Air Sea, and Not Reported (I-94, no lan...</td>\n",
       "    </tr>\n",
       "    <tr>\n",
       "      <th>1</th>\n",
       "      <td>236</td>\n",
       "      <td>AFGHANISTAN</td>\n",
       "    </tr>\n",
       "    <tr>\n",
       "      <th>2</th>\n",
       "      <td>101</td>\n",
       "      <td>ALBANIA</td>\n",
       "    </tr>\n",
       "    <tr>\n",
       "      <th>3</th>\n",
       "      <td>316</td>\n",
       "      <td>ALGERIA</td>\n",
       "    </tr>\n",
       "    <tr>\n",
       "      <th>4</th>\n",
       "      <td>102</td>\n",
       "      <td>ANDORRA</td>\n",
       "    </tr>\n",
       "  </tbody>\n",
       "</table>\n",
       "</div>"
      ],
      "text/plain": [
       "   country_code                                       country_name\n",
       "0           582  MEXICO Air Sea, and Not Reported (I-94, no lan...\n",
       "1           236                                        AFGHANISTAN\n",
       "2           101                                            ALBANIA\n",
       "3           316                                            ALGERIA\n",
       "4           102                                            ANDORRA"
      ]
     },
     "execution_count": 85,
     "metadata": {},
     "output_type": "execute_result"
    }
   ],
   "source": [
    "pdf_foreign_country.head(5)"
   ]
  },
  {
   "cell_type": "code",
   "execution_count": 86,
   "metadata": {
    "editable": true
   },
   "outputs": [],
   "source": [
    "df_foreign_country = spark.createDataFrame(pdf_foreign_country)"
   ]
  },
  {
   "cell_type": "code",
   "execution_count": 87,
   "metadata": {
    "editable": true
   },
   "outputs": [
    {
     "data": {
      "text/plain": [
       "[Row(country_code=582, country_name='MEXICO Air Sea, and Not Reported (I-94, no land arrivals)'),\n",
       " Row(country_code=236, country_name='AFGHANISTAN'),\n",
       " Row(country_code=101, country_name='ALBANIA'),\n",
       " Row(country_code=316, country_name='ALGERIA'),\n",
       " Row(country_code=102, country_name='ANDORRA')]"
      ]
     },
     "execution_count": 87,
     "metadata": {},
     "output_type": "execute_result"
    }
   ],
   "source": [
    "df_foreign_country.head(5)"
   ]
  },
  {
   "cell_type": "markdown",
   "metadata": {
    "editable": true
   },
   "source": [
    "### US City to State Code Data \n",
    "- This data set is also extracted from I94_SAS_Labels_Description.SAS file."
   ]
  },
  {
   "cell_type": "code",
   "execution_count": 88,
   "metadata": {
    "editable": true
   },
   "outputs": [
    {
     "data": {
      "text/plain": [
       "\"'ALC'\\t=\\t'ALCAN, AK             '\\n\""
      ]
     },
     "execution_count": 88,
     "metadata": {},
     "output_type": "execute_result"
    }
   ],
   "source": [
    "us_city_state = 'us_city_codes.txt'\n",
    "with open(us_city_state) as f:\n",
    "    lines = f.readlines()\n",
    "lines[0]"
   ]
  },
  {
   "cell_type": "code",
   "execution_count": 91,
   "metadata": {
    "editable": true
   },
   "outputs": [
    {
     "data": {
      "text/plain": [
       "'ALC=ALCAN,AK'"
      ]
     },
     "execution_count": 91,
     "metadata": {},
     "output_type": "execute_result"
    }
   ],
   "source": [
    "lines = [line.replace(\"\\t\",\"\").replace(\"'\",\"\").replace(\" \",\"\").replace(\"\\n\",\"\") for line in lines]\n",
    "lines[0]"
   ]
  },
  {
   "cell_type": "code",
   "execution_count": 153,
   "metadata": {
    "editable": true
   },
   "outputs": [],
   "source": [
    "regexp = re.compile(r\"^(\\w{3})=(\\w*),(\\w{2})\")\n",
    "matches = [regexp.match(line) for line in lines]\n",
    "city_state_dict = {\n",
    "    'city_code' : list(),\n",
    "    'state_name' : list(),\n",
    "    'state_code' : list()\n",
    "}\n",
    "\n",
    "for m in matches:\n",
    "    if m is None:\n",
    "        continue\n",
    "    city_state_dict['city_code'].append(m.group(1))\n",
    "    city_state_dict['state_name'].append(m.group(2))\n",
    "    city_state_dict['state_code'].append(m.group(3))\n",
    "\n",
    "pdf_us_city_state = pd.DataFrame.from_dict(city_state_dict)"
   ]
  },
  {
   "cell_type": "code",
   "execution_count": 154,
   "metadata": {
    "editable": true
   },
   "outputs": [
    {
     "data": {
      "text/html": [
       "<div>\n",
       "<style scoped>\n",
       "    .dataframe tbody tr th:only-of-type {\n",
       "        vertical-align: middle;\n",
       "    }\n",
       "\n",
       "    .dataframe tbody tr th {\n",
       "        vertical-align: top;\n",
       "    }\n",
       "\n",
       "    .dataframe thead th {\n",
       "        text-align: right;\n",
       "    }\n",
       "</style>\n",
       "<table border=\"1\" class=\"dataframe\">\n",
       "  <thead>\n",
       "    <tr style=\"text-align: right;\">\n",
       "      <th></th>\n",
       "      <th>city_code</th>\n",
       "      <th>state_name</th>\n",
       "      <th>state_code</th>\n",
       "    </tr>\n",
       "  </thead>\n",
       "  <tbody>\n",
       "    <tr>\n",
       "      <th>0</th>\n",
       "      <td>ALC</td>\n",
       "      <td>ALCAN</td>\n",
       "      <td>AK</td>\n",
       "    </tr>\n",
       "    <tr>\n",
       "      <th>1</th>\n",
       "      <td>ANC</td>\n",
       "      <td>ANCHORAGE</td>\n",
       "      <td>AK</td>\n",
       "    </tr>\n",
       "    <tr>\n",
       "      <th>2</th>\n",
       "      <td>DAC</td>\n",
       "      <td>DALTONSCACHE</td>\n",
       "      <td>AK</td>\n",
       "    </tr>\n",
       "    <tr>\n",
       "      <th>3</th>\n",
       "      <td>PIZ</td>\n",
       "      <td>DEWSTATIONPTLAYDEW</td>\n",
       "      <td>AK</td>\n",
       "    </tr>\n",
       "    <tr>\n",
       "      <th>4</th>\n",
       "      <td>DTH</td>\n",
       "      <td>DUTCHHARBOR</td>\n",
       "      <td>AK</td>\n",
       "    </tr>\n",
       "  </tbody>\n",
       "</table>\n",
       "</div>"
      ],
      "text/plain": [
       "  city_code          state_name state_code\n",
       "0       ALC               ALCAN         AK\n",
       "1       ANC           ANCHORAGE         AK\n",
       "2       DAC        DALTONSCACHE         AK\n",
       "3       PIZ  DEWSTATIONPTLAYDEW         AK\n",
       "4       DTH         DUTCHHARBOR         AK"
      ]
     },
     "execution_count": 154,
     "metadata": {},
     "output_type": "execute_result"
    }
   ],
   "source": [
    "pdf_us_city_state.head(5)"
   ]
  },
  {
   "cell_type": "code",
   "execution_count": 97,
   "metadata": {
    "editable": true
   },
   "outputs": [],
   "source": [
    "df_us_city_state = spark.createDataFrame(pdf_us_city_state)"
   ]
  },
  {
   "cell_type": "markdown",
   "metadata": {
    "editable": true
   },
   "source": [
    "### US State Code Data (Testing Purpose)"
   ]
  },
  {
   "cell_type": "code",
   "execution_count": 155,
   "metadata": {
    "editable": true
   },
   "outputs": [
    {
     "data": {
      "text/plain": [
       "\"'AL'='ALABAMA'\\n\""
      ]
     },
     "execution_count": 155,
     "metadata": {},
     "output_type": "execute_result"
    }
   ],
   "source": [
    "us_city_state = 'us_state_codes.txt'\n",
    "with open(us_city_state) as f:\n",
    "    lines = f.readlines()\n",
    "lines[0]"
   ]
  },
  {
   "cell_type": "code",
   "execution_count": 156,
   "metadata": {
    "editable": true
   },
   "outputs": [
    {
     "data": {
      "text/plain": [
       "'AL=ALABAMA'"
      ]
     },
     "execution_count": 156,
     "metadata": {},
     "output_type": "execute_result"
    }
   ],
   "source": [
    "lines = [line.replace(\"'\",'').replace(\"\\n\",\"\") for line in lines]\n",
    "lines[0]"
   ]
  },
  {
   "cell_type": "code",
   "execution_count": 159,
   "metadata": {
    "editable": true
   },
   "outputs": [
    {
     "data": {
      "text/plain": [
       "55"
      ]
     },
     "execution_count": 159,
     "metadata": {},
     "output_type": "execute_result"
    }
   ],
   "source": [
    "regexp = re.compile(r'^(.{2})=(\\w*)')\n",
    "matches = [regexp.match(line) for line in lines]\n",
    "state_dict = {\n",
    "    'state_code' : list(),\n",
    "    'state_name' : list(),\n",
    "}\n",
    "\n",
    "for m in matches:\n",
    "    if m is None:\n",
    "        continue\n",
    "    state_dict['state_code'].append(m.group(1))\n",
    "    state_dict['state_name'].append(m.group(2))\n",
    "\n",
    "pdf_us_state = pd.DataFrame.from_dict(state_dict)\n",
    "df_us_state = spark.createDataFrame(pdf_us_state)\n",
    "df_us_state.select('*').count()"
   ]
  },
  {
   "cell_type": "code",
   "execution_count": 160,
   "metadata": {
    "editable": true
   },
   "outputs": [],
   "source": [
    "df_us_state.createOrReplaceTempView(\"us_state_table\")"
   ]
  },
  {
   "cell_type": "markdown",
   "metadata": {
    "editable": true
   },
   "source": [
    "# Step 2: Explore and Clean the Data"
   ]
  },
  {
   "cell_type": "markdown",
   "metadata": {
    "editable": true
   },
   "source": [
    "## Demographics Data Set"
   ]
  },
  {
   "cell_type": "code",
   "execution_count": 11,
   "metadata": {
    "editable": true
   },
   "outputs": [],
   "source": [
    "from pyspark.sql.types import IntegerType, DoubleType"
   ]
  },
  {
   "cell_type": "markdown",
   "metadata": {
    "editable": true
   },
   "source": [
    "### Handling Missing Values"
   ]
  },
  {
   "cell_type": "markdown",
   "metadata": {
    "editable": true
   },
   "source": [
    "- First, let's see if there are missing values in the data set. Since demographics data set is relatively small (less than 3000 rows), I'll use pandas to explore and clean the data.  "
   ]
  },
  {
   "cell_type": "code",
   "execution_count": 33,
   "metadata": {
    "editable": true
   },
   "outputs": [
    {
     "name": "stdout",
     "output_type": "stream",
     "text": [
      "Null data in City? : False\n",
      "Null data in State? : False\n",
      "Null data in Median Age? : False\n",
      "Null data in Male Population? : True\n",
      "Null data in Female Population? : True\n",
      "Null data in Total Population? : False\n",
      "Null data in Number of Veterans? : True\n",
      "Null data in Foreign-born? : True\n",
      "Null data in Average Household Size? : True\n",
      "Null data in State Code? : False\n",
      "Null data in Race? : False\n",
      "Null data in Count? : False\n"
     ]
    }
   ],
   "source": [
    "df = df_demographic.toPandas()\n",
    "for column in df.columns:\n",
    "    print(f\"Null data in {column}? : {any(df[column].isnull())}\")"
   ]
  },
  {
   "cell_type": "markdown",
   "metadata": {
    "editable": true
   },
   "source": [
    "- We can see that there are missing values in Male Population, Female Population, Number of Veterans and Average Household Size columns. Let's take a look at how those rows with missing values look like. "
   ]
  },
  {
   "cell_type": "code",
   "execution_count": 13,
   "metadata": {
    "editable": true
   },
   "outputs": [
    {
     "data": {
      "text/html": [
       "<div>\n",
       "<style scoped>\n",
       "    .dataframe tbody tr th:only-of-type {\n",
       "        vertical-align: middle;\n",
       "    }\n",
       "\n",
       "    .dataframe tbody tr th {\n",
       "        vertical-align: top;\n",
       "    }\n",
       "\n",
       "    .dataframe thead th {\n",
       "        text-align: right;\n",
       "    }\n",
       "</style>\n",
       "<table border=\"1\" class=\"dataframe\">\n",
       "  <thead>\n",
       "    <tr style=\"text-align: right;\">\n",
       "      <th></th>\n",
       "      <th>City</th>\n",
       "      <th>State</th>\n",
       "      <th>Median Age</th>\n",
       "      <th>Male Population</th>\n",
       "      <th>Female Population</th>\n",
       "      <th>Total Population</th>\n",
       "      <th>Number of Veterans</th>\n",
       "      <th>Foreign-born</th>\n",
       "      <th>Average Household Size</th>\n",
       "      <th>State Code</th>\n",
       "      <th>Race</th>\n",
       "      <th>Count</th>\n",
       "    </tr>\n",
       "  </thead>\n",
       "  <tbody>\n",
       "    <tr>\n",
       "      <th>333</th>\n",
       "      <td>The Villages</td>\n",
       "      <td>Florida</td>\n",
       "      <td>70.5</td>\n",
       "      <td>None</td>\n",
       "      <td>None</td>\n",
       "      <td>72590</td>\n",
       "      <td>15231</td>\n",
       "      <td>4034</td>\n",
       "      <td>None</td>\n",
       "      <td>FL</td>\n",
       "      <td>Hispanic or Latino</td>\n",
       "      <td>1066</td>\n",
       "    </tr>\n",
       "    <tr>\n",
       "      <th>449</th>\n",
       "      <td>The Villages</td>\n",
       "      <td>Florida</td>\n",
       "      <td>70.5</td>\n",
       "      <td>None</td>\n",
       "      <td>None</td>\n",
       "      <td>72590</td>\n",
       "      <td>15231</td>\n",
       "      <td>4034</td>\n",
       "      <td>None</td>\n",
       "      <td>FL</td>\n",
       "      <td>Black or African-American</td>\n",
       "      <td>331</td>\n",
       "    </tr>\n",
       "    <tr>\n",
       "      <th>1437</th>\n",
       "      <td>The Villages</td>\n",
       "      <td>Florida</td>\n",
       "      <td>70.5</td>\n",
       "      <td>None</td>\n",
       "      <td>None</td>\n",
       "      <td>72590</td>\n",
       "      <td>15231</td>\n",
       "      <td>4034</td>\n",
       "      <td>None</td>\n",
       "      <td>FL</td>\n",
       "      <td>White</td>\n",
       "      <td>72211</td>\n",
       "    </tr>\n",
       "  </tbody>\n",
       "</table>\n",
       "</div>"
      ],
      "text/plain": [
       "              City    State Median Age Male Population Female Population  \\\n",
       "333   The Villages  Florida       70.5            None              None   \n",
       "449   The Villages  Florida       70.5            None              None   \n",
       "1437  The Villages  Florida       70.5            None              None   \n",
       "\n",
       "     Total Population Number of Veterans Foreign-born Average Household Size  \\\n",
       "333             72590              15231         4034                   None   \n",
       "449             72590              15231         4034                   None   \n",
       "1437            72590              15231         4034                   None   \n",
       "\n",
       "     State Code                       Race  Count  \n",
       "333          FL         Hispanic or Latino   1066  \n",
       "449          FL  Black or African-American    331  \n",
       "1437         FL                      White  72211  "
      ]
     },
     "execution_count": 13,
     "metadata": {},
     "output_type": "execute_result"
    }
   ],
   "source": [
    "df[df[\"Male Population\"].isnull() == True]"
   ]
  },
  {
   "cell_type": "code",
   "execution_count": 14,
   "metadata": {
    "editable": true
   },
   "outputs": [
    {
     "data": {
      "text/html": [
       "<div>\n",
       "<style scoped>\n",
       "    .dataframe tbody tr th:only-of-type {\n",
       "        vertical-align: middle;\n",
       "    }\n",
       "\n",
       "    .dataframe tbody tr th {\n",
       "        vertical-align: top;\n",
       "    }\n",
       "\n",
       "    .dataframe thead th {\n",
       "        text-align: right;\n",
       "    }\n",
       "</style>\n",
       "<table border=\"1\" class=\"dataframe\">\n",
       "  <thead>\n",
       "    <tr style=\"text-align: right;\">\n",
       "      <th></th>\n",
       "      <th>City</th>\n",
       "      <th>State</th>\n",
       "      <th>Median Age</th>\n",
       "      <th>Male Population</th>\n",
       "      <th>Female Population</th>\n",
       "      <th>Total Population</th>\n",
       "      <th>Number of Veterans</th>\n",
       "      <th>Foreign-born</th>\n",
       "      <th>Average Household Size</th>\n",
       "      <th>State Code</th>\n",
       "      <th>Race</th>\n",
       "      <th>Count</th>\n",
       "    </tr>\n",
       "  </thead>\n",
       "  <tbody>\n",
       "    <tr>\n",
       "      <th>333</th>\n",
       "      <td>The Villages</td>\n",
       "      <td>Florida</td>\n",
       "      <td>70.5</td>\n",
       "      <td>None</td>\n",
       "      <td>None</td>\n",
       "      <td>72590</td>\n",
       "      <td>15231</td>\n",
       "      <td>4034</td>\n",
       "      <td>None</td>\n",
       "      <td>FL</td>\n",
       "      <td>Hispanic or Latino</td>\n",
       "      <td>1066</td>\n",
       "    </tr>\n",
       "    <tr>\n",
       "      <th>449</th>\n",
       "      <td>The Villages</td>\n",
       "      <td>Florida</td>\n",
       "      <td>70.5</td>\n",
       "      <td>None</td>\n",
       "      <td>None</td>\n",
       "      <td>72590</td>\n",
       "      <td>15231</td>\n",
       "      <td>4034</td>\n",
       "      <td>None</td>\n",
       "      <td>FL</td>\n",
       "      <td>Black or African-American</td>\n",
       "      <td>331</td>\n",
       "    </tr>\n",
       "    <tr>\n",
       "      <th>1437</th>\n",
       "      <td>The Villages</td>\n",
       "      <td>Florida</td>\n",
       "      <td>70.5</td>\n",
       "      <td>None</td>\n",
       "      <td>None</td>\n",
       "      <td>72590</td>\n",
       "      <td>15231</td>\n",
       "      <td>4034</td>\n",
       "      <td>None</td>\n",
       "      <td>FL</td>\n",
       "      <td>White</td>\n",
       "      <td>72211</td>\n",
       "    </tr>\n",
       "  </tbody>\n",
       "</table>\n",
       "</div>"
      ],
      "text/plain": [
       "              City    State Median Age Male Population Female Population  \\\n",
       "333   The Villages  Florida       70.5            None              None   \n",
       "449   The Villages  Florida       70.5            None              None   \n",
       "1437  The Villages  Florida       70.5            None              None   \n",
       "\n",
       "     Total Population Number of Veterans Foreign-born Average Household Size  \\\n",
       "333             72590              15231         4034                   None   \n",
       "449             72590              15231         4034                   None   \n",
       "1437            72590              15231         4034                   None   \n",
       "\n",
       "     State Code                       Race  Count  \n",
       "333          FL         Hispanic or Latino   1066  \n",
       "449          FL  Black or African-American    331  \n",
       "1437         FL                      White  72211  "
      ]
     },
     "execution_count": 14,
     "metadata": {},
     "output_type": "execute_result"
    }
   ],
   "source": [
    "df[df[\"Female Population\"].isnull() == True]"
   ]
  },
  {
   "cell_type": "markdown",
   "metadata": {
    "editable": true
   },
   "source": [
    "- There are 3 rows from The Villages Florida, having missing values on Male/Female populations. \n",
    "- Let's take a look other rows from The Villages, Florida."
   ]
  },
  {
   "cell_type": "code",
   "execution_count": 15,
   "metadata": {
    "editable": true
   },
   "outputs": [
    {
     "data": {
      "text/html": [
       "<div>\n",
       "<style scoped>\n",
       "    .dataframe tbody tr th:only-of-type {\n",
       "        vertical-align: middle;\n",
       "    }\n",
       "\n",
       "    .dataframe tbody tr th {\n",
       "        vertical-align: top;\n",
       "    }\n",
       "\n",
       "    .dataframe thead th {\n",
       "        text-align: right;\n",
       "    }\n",
       "</style>\n",
       "<table border=\"1\" class=\"dataframe\">\n",
       "  <thead>\n",
       "    <tr style=\"text-align: right;\">\n",
       "      <th></th>\n",
       "      <th>City</th>\n",
       "      <th>State</th>\n",
       "      <th>Median Age</th>\n",
       "      <th>Male Population</th>\n",
       "      <th>Female Population</th>\n",
       "      <th>Total Population</th>\n",
       "      <th>Number of Veterans</th>\n",
       "      <th>Foreign-born</th>\n",
       "      <th>Average Household Size</th>\n",
       "      <th>State Code</th>\n",
       "      <th>Race</th>\n",
       "      <th>Count</th>\n",
       "    </tr>\n",
       "  </thead>\n",
       "  <tbody>\n",
       "    <tr>\n",
       "      <th>333</th>\n",
       "      <td>The Villages</td>\n",
       "      <td>Florida</td>\n",
       "      <td>70.5</td>\n",
       "      <td>None</td>\n",
       "      <td>None</td>\n",
       "      <td>72590</td>\n",
       "      <td>15231</td>\n",
       "      <td>4034</td>\n",
       "      <td>None</td>\n",
       "      <td>FL</td>\n",
       "      <td>Hispanic or Latino</td>\n",
       "      <td>1066</td>\n",
       "    </tr>\n",
       "    <tr>\n",
       "      <th>449</th>\n",
       "      <td>The Villages</td>\n",
       "      <td>Florida</td>\n",
       "      <td>70.5</td>\n",
       "      <td>None</td>\n",
       "      <td>None</td>\n",
       "      <td>72590</td>\n",
       "      <td>15231</td>\n",
       "      <td>4034</td>\n",
       "      <td>None</td>\n",
       "      <td>FL</td>\n",
       "      <td>Black or African-American</td>\n",
       "      <td>331</td>\n",
       "    </tr>\n",
       "    <tr>\n",
       "      <th>1437</th>\n",
       "      <td>The Villages</td>\n",
       "      <td>Florida</td>\n",
       "      <td>70.5</td>\n",
       "      <td>None</td>\n",
       "      <td>None</td>\n",
       "      <td>72590</td>\n",
       "      <td>15231</td>\n",
       "      <td>4034</td>\n",
       "      <td>None</td>\n",
       "      <td>FL</td>\n",
       "      <td>White</td>\n",
       "      <td>72211</td>\n",
       "    </tr>\n",
       "  </tbody>\n",
       "</table>\n",
       "</div>"
      ],
      "text/plain": [
       "              City    State Median Age Male Population Female Population  \\\n",
       "333   The Villages  Florida       70.5            None              None   \n",
       "449   The Villages  Florida       70.5            None              None   \n",
       "1437  The Villages  Florida       70.5            None              None   \n",
       "\n",
       "     Total Population Number of Veterans Foreign-born Average Household Size  \\\n",
       "333             72590              15231         4034                   None   \n",
       "449             72590              15231         4034                   None   \n",
       "1437            72590              15231         4034                   None   \n",
       "\n",
       "     State Code                       Race  Count  \n",
       "333          FL         Hispanic or Latino   1066  \n",
       "449          FL  Black or African-American    331  \n",
       "1437         FL                      White  72211  "
      ]
     },
     "execution_count": 15,
     "metadata": {},
     "output_type": "execute_result"
    }
   ],
   "source": [
    "df[df[\"City\"] == \"The Villages\"]"
   ]
  },
  {
   "cell_type": "markdown",
   "metadata": {
    "editable": true
   },
   "source": [
    "- Now we can see that there's no valid data on Male/Female population for The Villages, FL. \n",
    "- But, these rows still contains data on Total Populations and Race/ Count. \n",
    "- These valid columns are still useful to us, so let's just keep these rows."
   ]
  },
  {
   "cell_type": "code",
   "execution_count": 16,
   "metadata": {
    "editable": true
   },
   "outputs": [
    {
     "data": {
      "text/html": [
       "<div>\n",
       "<style scoped>\n",
       "    .dataframe tbody tr th:only-of-type {\n",
       "        vertical-align: middle;\n",
       "    }\n",
       "\n",
       "    .dataframe tbody tr th {\n",
       "        vertical-align: top;\n",
       "    }\n",
       "\n",
       "    .dataframe thead th {\n",
       "        text-align: right;\n",
       "    }\n",
       "</style>\n",
       "<table border=\"1\" class=\"dataframe\">\n",
       "  <thead>\n",
       "    <tr style=\"text-align: right;\">\n",
       "      <th></th>\n",
       "      <th>City</th>\n",
       "      <th>State</th>\n",
       "      <th>Median Age</th>\n",
       "      <th>Male Population</th>\n",
       "      <th>Female Population</th>\n",
       "      <th>Total Population</th>\n",
       "      <th>Number of Veterans</th>\n",
       "      <th>Foreign-born</th>\n",
       "      <th>Average Household Size</th>\n",
       "      <th>State Code</th>\n",
       "      <th>Race</th>\n",
       "      <th>Count</th>\n",
       "    </tr>\n",
       "  </thead>\n",
       "  <tbody>\n",
       "    <tr>\n",
       "      <th>111</th>\n",
       "      <td>San Juan</td>\n",
       "      <td>Puerto Rico</td>\n",
       "      <td>41.4</td>\n",
       "      <td>155408</td>\n",
       "      <td>186829</td>\n",
       "      <td>342237</td>\n",
       "      <td>None</td>\n",
       "      <td>None</td>\n",
       "      <td>None</td>\n",
       "      <td>PR</td>\n",
       "      <td>Hispanic or Latino</td>\n",
       "      <td>335559</td>\n",
       "    </tr>\n",
       "    <tr>\n",
       "      <th>155</th>\n",
       "      <td>Caguas</td>\n",
       "      <td>Puerto Rico</td>\n",
       "      <td>40.4</td>\n",
       "      <td>34743</td>\n",
       "      <td>42265</td>\n",
       "      <td>77008</td>\n",
       "      <td>None</td>\n",
       "      <td>None</td>\n",
       "      <td>None</td>\n",
       "      <td>PR</td>\n",
       "      <td>Hispanic or Latino</td>\n",
       "      <td>76349</td>\n",
       "    </tr>\n",
       "    <tr>\n",
       "      <th>258</th>\n",
       "      <td>Carolina</td>\n",
       "      <td>Puerto Rico</td>\n",
       "      <td>42.0</td>\n",
       "      <td>64758</td>\n",
       "      <td>77308</td>\n",
       "      <td>142066</td>\n",
       "      <td>None</td>\n",
       "      <td>None</td>\n",
       "      <td>None</td>\n",
       "      <td>PR</td>\n",
       "      <td>American Indian and Alaska Native</td>\n",
       "      <td>12143</td>\n",
       "    </tr>\n",
       "    <tr>\n",
       "      <th>637</th>\n",
       "      <td>Carolina</td>\n",
       "      <td>Puerto Rico</td>\n",
       "      <td>42.0</td>\n",
       "      <td>64758</td>\n",
       "      <td>77308</td>\n",
       "      <td>142066</td>\n",
       "      <td>None</td>\n",
       "      <td>None</td>\n",
       "      <td>None</td>\n",
       "      <td>PR</td>\n",
       "      <td>Hispanic or Latino</td>\n",
       "      <td>139967</td>\n",
       "    </tr>\n",
       "    <tr>\n",
       "      <th>1747</th>\n",
       "      <td>San Juan</td>\n",
       "      <td>Puerto Rico</td>\n",
       "      <td>41.4</td>\n",
       "      <td>155408</td>\n",
       "      <td>186829</td>\n",
       "      <td>342237</td>\n",
       "      <td>None</td>\n",
       "      <td>None</td>\n",
       "      <td>None</td>\n",
       "      <td>PR</td>\n",
       "      <td>American Indian and Alaska Native</td>\n",
       "      <td>4031</td>\n",
       "    </tr>\n",
       "    <tr>\n",
       "      <th>1748</th>\n",
       "      <td>Mayagüez</td>\n",
       "      <td>Puerto Rico</td>\n",
       "      <td>38.1</td>\n",
       "      <td>30799</td>\n",
       "      <td>35782</td>\n",
       "      <td>66581</td>\n",
       "      <td>None</td>\n",
       "      <td>None</td>\n",
       "      <td>None</td>\n",
       "      <td>PR</td>\n",
       "      <td>Asian</td>\n",
       "      <td>235</td>\n",
       "    </tr>\n",
       "    <tr>\n",
       "      <th>1995</th>\n",
       "      <td>Ponce</td>\n",
       "      <td>Puerto Rico</td>\n",
       "      <td>40.5</td>\n",
       "      <td>56968</td>\n",
       "      <td>64615</td>\n",
       "      <td>121583</td>\n",
       "      <td>None</td>\n",
       "      <td>None</td>\n",
       "      <td>None</td>\n",
       "      <td>PR</td>\n",
       "      <td>Hispanic or Latino</td>\n",
       "      <td>120705</td>\n",
       "    </tr>\n",
       "    <tr>\n",
       "      <th>2004</th>\n",
       "      <td>Bayamón</td>\n",
       "      <td>Puerto Rico</td>\n",
       "      <td>39.4</td>\n",
       "      <td>80128</td>\n",
       "      <td>90131</td>\n",
       "      <td>170259</td>\n",
       "      <td>None</td>\n",
       "      <td>None</td>\n",
       "      <td>None</td>\n",
       "      <td>PR</td>\n",
       "      <td>Hispanic or Latino</td>\n",
       "      <td>169155</td>\n",
       "    </tr>\n",
       "    <tr>\n",
       "      <th>2441</th>\n",
       "      <td>San Juan</td>\n",
       "      <td>Puerto Rico</td>\n",
       "      <td>41.4</td>\n",
       "      <td>155408</td>\n",
       "      <td>186829</td>\n",
       "      <td>342237</td>\n",
       "      <td>None</td>\n",
       "      <td>None</td>\n",
       "      <td>None</td>\n",
       "      <td>PR</td>\n",
       "      <td>Asian</td>\n",
       "      <td>2452</td>\n",
       "    </tr>\n",
       "    <tr>\n",
       "      <th>2589</th>\n",
       "      <td>Guaynabo</td>\n",
       "      <td>Puerto Rico</td>\n",
       "      <td>42.2</td>\n",
       "      <td>33066</td>\n",
       "      <td>37426</td>\n",
       "      <td>70492</td>\n",
       "      <td>None</td>\n",
       "      <td>None</td>\n",
       "      <td>None</td>\n",
       "      <td>PR</td>\n",
       "      <td>Hispanic or Latino</td>\n",
       "      <td>69936</td>\n",
       "    </tr>\n",
       "    <tr>\n",
       "      <th>2597</th>\n",
       "      <td>Caguas</td>\n",
       "      <td>Puerto Rico</td>\n",
       "      <td>40.4</td>\n",
       "      <td>34743</td>\n",
       "      <td>42265</td>\n",
       "      <td>77008</td>\n",
       "      <td>None</td>\n",
       "      <td>None</td>\n",
       "      <td>None</td>\n",
       "      <td>PR</td>\n",
       "      <td>American Indian and Alaska Native</td>\n",
       "      <td>624</td>\n",
       "    </tr>\n",
       "    <tr>\n",
       "      <th>2654</th>\n",
       "      <td>Guaynabo</td>\n",
       "      <td>Puerto Rico</td>\n",
       "      <td>42.2</td>\n",
       "      <td>33066</td>\n",
       "      <td>37426</td>\n",
       "      <td>70492</td>\n",
       "      <td>None</td>\n",
       "      <td>None</td>\n",
       "      <td>None</td>\n",
       "      <td>PR</td>\n",
       "      <td>American Indian and Alaska Native</td>\n",
       "      <td>589</td>\n",
       "    </tr>\n",
       "    <tr>\n",
       "      <th>2746</th>\n",
       "      <td>Mayagüez</td>\n",
       "      <td>Puerto Rico</td>\n",
       "      <td>38.1</td>\n",
       "      <td>30799</td>\n",
       "      <td>35782</td>\n",
       "      <td>66581</td>\n",
       "      <td>None</td>\n",
       "      <td>None</td>\n",
       "      <td>None</td>\n",
       "      <td>PR</td>\n",
       "      <td>Hispanic or Latino</td>\n",
       "      <td>65521</td>\n",
       "    </tr>\n",
       "  </tbody>\n",
       "</table>\n",
       "</div>"
      ],
      "text/plain": [
       "          City        State Median Age Male Population Female Population  \\\n",
       "111   San Juan  Puerto Rico       41.4          155408            186829   \n",
       "155     Caguas  Puerto Rico       40.4           34743             42265   \n",
       "258   Carolina  Puerto Rico       42.0           64758             77308   \n",
       "637   Carolina  Puerto Rico       42.0           64758             77308   \n",
       "1747  San Juan  Puerto Rico       41.4          155408            186829   \n",
       "1748  Mayagüez  Puerto Rico       38.1           30799             35782   \n",
       "1995     Ponce  Puerto Rico       40.5           56968             64615   \n",
       "2004   Bayamón  Puerto Rico       39.4           80128             90131   \n",
       "2441  San Juan  Puerto Rico       41.4          155408            186829   \n",
       "2589  Guaynabo  Puerto Rico       42.2           33066             37426   \n",
       "2597    Caguas  Puerto Rico       40.4           34743             42265   \n",
       "2654  Guaynabo  Puerto Rico       42.2           33066             37426   \n",
       "2746  Mayagüez  Puerto Rico       38.1           30799             35782   \n",
       "\n",
       "     Total Population Number of Veterans Foreign-born Average Household Size  \\\n",
       "111            342237               None         None                   None   \n",
       "155             77008               None         None                   None   \n",
       "258            142066               None         None                   None   \n",
       "637            142066               None         None                   None   \n",
       "1747           342237               None         None                   None   \n",
       "1748            66581               None         None                   None   \n",
       "1995           121583               None         None                   None   \n",
       "2004           170259               None         None                   None   \n",
       "2441           342237               None         None                   None   \n",
       "2589            70492               None         None                   None   \n",
       "2597            77008               None         None                   None   \n",
       "2654            70492               None         None                   None   \n",
       "2746            66581               None         None                   None   \n",
       "\n",
       "     State Code                               Race   Count  \n",
       "111          PR                 Hispanic or Latino  335559  \n",
       "155          PR                 Hispanic or Latino   76349  \n",
       "258          PR  American Indian and Alaska Native   12143  \n",
       "637          PR                 Hispanic or Latino  139967  \n",
       "1747         PR  American Indian and Alaska Native    4031  \n",
       "1748         PR                              Asian     235  \n",
       "1995         PR                 Hispanic or Latino  120705  \n",
       "2004         PR                 Hispanic or Latino  169155  \n",
       "2441         PR                              Asian    2452  \n",
       "2589         PR                 Hispanic or Latino   69936  \n",
       "2597         PR  American Indian and Alaska Native     624  \n",
       "2654         PR  American Indian and Alaska Native     589  \n",
       "2746         PR                 Hispanic or Latino   65521  "
      ]
     },
     "execution_count": 16,
     "metadata": {},
     "output_type": "execute_result"
    }
   ],
   "source": [
    "df[df[\"Number of Veterans\"].isnull() == True]"
   ]
  },
  {
   "cell_type": "code",
   "execution_count": 17,
   "metadata": {
    "editable": true
   },
   "outputs": [
    {
     "data": {
      "text/html": [
       "<div>\n",
       "<style scoped>\n",
       "    .dataframe tbody tr th:only-of-type {\n",
       "        vertical-align: middle;\n",
       "    }\n",
       "\n",
       "    .dataframe tbody tr th {\n",
       "        vertical-align: top;\n",
       "    }\n",
       "\n",
       "    .dataframe thead th {\n",
       "        text-align: right;\n",
       "    }\n",
       "</style>\n",
       "<table border=\"1\" class=\"dataframe\">\n",
       "  <thead>\n",
       "    <tr style=\"text-align: right;\">\n",
       "      <th></th>\n",
       "      <th>City</th>\n",
       "      <th>State</th>\n",
       "      <th>Median Age</th>\n",
       "      <th>Male Population</th>\n",
       "      <th>Female Population</th>\n",
       "      <th>Total Population</th>\n",
       "      <th>Number of Veterans</th>\n",
       "      <th>Foreign-born</th>\n",
       "      <th>Average Household Size</th>\n",
       "      <th>State Code</th>\n",
       "      <th>Race</th>\n",
       "      <th>Count</th>\n",
       "    </tr>\n",
       "  </thead>\n",
       "  <tbody>\n",
       "    <tr>\n",
       "      <th>111</th>\n",
       "      <td>San Juan</td>\n",
       "      <td>Puerto Rico</td>\n",
       "      <td>41.4</td>\n",
       "      <td>155408</td>\n",
       "      <td>186829</td>\n",
       "      <td>342237</td>\n",
       "      <td>None</td>\n",
       "      <td>None</td>\n",
       "      <td>None</td>\n",
       "      <td>PR</td>\n",
       "      <td>Hispanic or Latino</td>\n",
       "      <td>335559</td>\n",
       "    </tr>\n",
       "    <tr>\n",
       "      <th>155</th>\n",
       "      <td>Caguas</td>\n",
       "      <td>Puerto Rico</td>\n",
       "      <td>40.4</td>\n",
       "      <td>34743</td>\n",
       "      <td>42265</td>\n",
       "      <td>77008</td>\n",
       "      <td>None</td>\n",
       "      <td>None</td>\n",
       "      <td>None</td>\n",
       "      <td>PR</td>\n",
       "      <td>Hispanic or Latino</td>\n",
       "      <td>76349</td>\n",
       "    </tr>\n",
       "    <tr>\n",
       "      <th>258</th>\n",
       "      <td>Carolina</td>\n",
       "      <td>Puerto Rico</td>\n",
       "      <td>42.0</td>\n",
       "      <td>64758</td>\n",
       "      <td>77308</td>\n",
       "      <td>142066</td>\n",
       "      <td>None</td>\n",
       "      <td>None</td>\n",
       "      <td>None</td>\n",
       "      <td>PR</td>\n",
       "      <td>American Indian and Alaska Native</td>\n",
       "      <td>12143</td>\n",
       "    </tr>\n",
       "    <tr>\n",
       "      <th>333</th>\n",
       "      <td>The Villages</td>\n",
       "      <td>Florida</td>\n",
       "      <td>70.5</td>\n",
       "      <td>None</td>\n",
       "      <td>None</td>\n",
       "      <td>72590</td>\n",
       "      <td>15231</td>\n",
       "      <td>4034</td>\n",
       "      <td>None</td>\n",
       "      <td>FL</td>\n",
       "      <td>Hispanic or Latino</td>\n",
       "      <td>1066</td>\n",
       "    </tr>\n",
       "    <tr>\n",
       "      <th>449</th>\n",
       "      <td>The Villages</td>\n",
       "      <td>Florida</td>\n",
       "      <td>70.5</td>\n",
       "      <td>None</td>\n",
       "      <td>None</td>\n",
       "      <td>72590</td>\n",
       "      <td>15231</td>\n",
       "      <td>4034</td>\n",
       "      <td>None</td>\n",
       "      <td>FL</td>\n",
       "      <td>Black or African-American</td>\n",
       "      <td>331</td>\n",
       "    </tr>\n",
       "    <tr>\n",
       "      <th>637</th>\n",
       "      <td>Carolina</td>\n",
       "      <td>Puerto Rico</td>\n",
       "      <td>42.0</td>\n",
       "      <td>64758</td>\n",
       "      <td>77308</td>\n",
       "      <td>142066</td>\n",
       "      <td>None</td>\n",
       "      <td>None</td>\n",
       "      <td>None</td>\n",
       "      <td>PR</td>\n",
       "      <td>Hispanic or Latino</td>\n",
       "      <td>139967</td>\n",
       "    </tr>\n",
       "    <tr>\n",
       "      <th>1437</th>\n",
       "      <td>The Villages</td>\n",
       "      <td>Florida</td>\n",
       "      <td>70.5</td>\n",
       "      <td>None</td>\n",
       "      <td>None</td>\n",
       "      <td>72590</td>\n",
       "      <td>15231</td>\n",
       "      <td>4034</td>\n",
       "      <td>None</td>\n",
       "      <td>FL</td>\n",
       "      <td>White</td>\n",
       "      <td>72211</td>\n",
       "    </tr>\n",
       "    <tr>\n",
       "      <th>1747</th>\n",
       "      <td>San Juan</td>\n",
       "      <td>Puerto Rico</td>\n",
       "      <td>41.4</td>\n",
       "      <td>155408</td>\n",
       "      <td>186829</td>\n",
       "      <td>342237</td>\n",
       "      <td>None</td>\n",
       "      <td>None</td>\n",
       "      <td>None</td>\n",
       "      <td>PR</td>\n",
       "      <td>American Indian and Alaska Native</td>\n",
       "      <td>4031</td>\n",
       "    </tr>\n",
       "    <tr>\n",
       "      <th>1748</th>\n",
       "      <td>Mayagüez</td>\n",
       "      <td>Puerto Rico</td>\n",
       "      <td>38.1</td>\n",
       "      <td>30799</td>\n",
       "      <td>35782</td>\n",
       "      <td>66581</td>\n",
       "      <td>None</td>\n",
       "      <td>None</td>\n",
       "      <td>None</td>\n",
       "      <td>PR</td>\n",
       "      <td>Asian</td>\n",
       "      <td>235</td>\n",
       "    </tr>\n",
       "    <tr>\n",
       "      <th>1995</th>\n",
       "      <td>Ponce</td>\n",
       "      <td>Puerto Rico</td>\n",
       "      <td>40.5</td>\n",
       "      <td>56968</td>\n",
       "      <td>64615</td>\n",
       "      <td>121583</td>\n",
       "      <td>None</td>\n",
       "      <td>None</td>\n",
       "      <td>None</td>\n",
       "      <td>PR</td>\n",
       "      <td>Hispanic or Latino</td>\n",
       "      <td>120705</td>\n",
       "    </tr>\n",
       "    <tr>\n",
       "      <th>2004</th>\n",
       "      <td>Bayamón</td>\n",
       "      <td>Puerto Rico</td>\n",
       "      <td>39.4</td>\n",
       "      <td>80128</td>\n",
       "      <td>90131</td>\n",
       "      <td>170259</td>\n",
       "      <td>None</td>\n",
       "      <td>None</td>\n",
       "      <td>None</td>\n",
       "      <td>PR</td>\n",
       "      <td>Hispanic or Latino</td>\n",
       "      <td>169155</td>\n",
       "    </tr>\n",
       "    <tr>\n",
       "      <th>2441</th>\n",
       "      <td>San Juan</td>\n",
       "      <td>Puerto Rico</td>\n",
       "      <td>41.4</td>\n",
       "      <td>155408</td>\n",
       "      <td>186829</td>\n",
       "      <td>342237</td>\n",
       "      <td>None</td>\n",
       "      <td>None</td>\n",
       "      <td>None</td>\n",
       "      <td>PR</td>\n",
       "      <td>Asian</td>\n",
       "      <td>2452</td>\n",
       "    </tr>\n",
       "    <tr>\n",
       "      <th>2589</th>\n",
       "      <td>Guaynabo</td>\n",
       "      <td>Puerto Rico</td>\n",
       "      <td>42.2</td>\n",
       "      <td>33066</td>\n",
       "      <td>37426</td>\n",
       "      <td>70492</td>\n",
       "      <td>None</td>\n",
       "      <td>None</td>\n",
       "      <td>None</td>\n",
       "      <td>PR</td>\n",
       "      <td>Hispanic or Latino</td>\n",
       "      <td>69936</td>\n",
       "    </tr>\n",
       "    <tr>\n",
       "      <th>2597</th>\n",
       "      <td>Caguas</td>\n",
       "      <td>Puerto Rico</td>\n",
       "      <td>40.4</td>\n",
       "      <td>34743</td>\n",
       "      <td>42265</td>\n",
       "      <td>77008</td>\n",
       "      <td>None</td>\n",
       "      <td>None</td>\n",
       "      <td>None</td>\n",
       "      <td>PR</td>\n",
       "      <td>American Indian and Alaska Native</td>\n",
       "      <td>624</td>\n",
       "    </tr>\n",
       "    <tr>\n",
       "      <th>2654</th>\n",
       "      <td>Guaynabo</td>\n",
       "      <td>Puerto Rico</td>\n",
       "      <td>42.2</td>\n",
       "      <td>33066</td>\n",
       "      <td>37426</td>\n",
       "      <td>70492</td>\n",
       "      <td>None</td>\n",
       "      <td>None</td>\n",
       "      <td>None</td>\n",
       "      <td>PR</td>\n",
       "      <td>American Indian and Alaska Native</td>\n",
       "      <td>589</td>\n",
       "    </tr>\n",
       "    <tr>\n",
       "      <th>2746</th>\n",
       "      <td>Mayagüez</td>\n",
       "      <td>Puerto Rico</td>\n",
       "      <td>38.1</td>\n",
       "      <td>30799</td>\n",
       "      <td>35782</td>\n",
       "      <td>66581</td>\n",
       "      <td>None</td>\n",
       "      <td>None</td>\n",
       "      <td>None</td>\n",
       "      <td>PR</td>\n",
       "      <td>Hispanic or Latino</td>\n",
       "      <td>65521</td>\n",
       "    </tr>\n",
       "  </tbody>\n",
       "</table>\n",
       "</div>"
      ],
      "text/plain": [
       "              City        State Median Age Male Population Female Population  \\\n",
       "111       San Juan  Puerto Rico       41.4          155408            186829   \n",
       "155         Caguas  Puerto Rico       40.4           34743             42265   \n",
       "258       Carolina  Puerto Rico       42.0           64758             77308   \n",
       "333   The Villages      Florida       70.5            None              None   \n",
       "449   The Villages      Florida       70.5            None              None   \n",
       "637       Carolina  Puerto Rico       42.0           64758             77308   \n",
       "1437  The Villages      Florida       70.5            None              None   \n",
       "1747      San Juan  Puerto Rico       41.4          155408            186829   \n",
       "1748      Mayagüez  Puerto Rico       38.1           30799             35782   \n",
       "1995         Ponce  Puerto Rico       40.5           56968             64615   \n",
       "2004       Bayamón  Puerto Rico       39.4           80128             90131   \n",
       "2441      San Juan  Puerto Rico       41.4          155408            186829   \n",
       "2589      Guaynabo  Puerto Rico       42.2           33066             37426   \n",
       "2597        Caguas  Puerto Rico       40.4           34743             42265   \n",
       "2654      Guaynabo  Puerto Rico       42.2           33066             37426   \n",
       "2746      Mayagüez  Puerto Rico       38.1           30799             35782   \n",
       "\n",
       "     Total Population Number of Veterans Foreign-born Average Household Size  \\\n",
       "111            342237               None         None                   None   \n",
       "155             77008               None         None                   None   \n",
       "258            142066               None         None                   None   \n",
       "333             72590              15231         4034                   None   \n",
       "449             72590              15231         4034                   None   \n",
       "637            142066               None         None                   None   \n",
       "1437            72590              15231         4034                   None   \n",
       "1747           342237               None         None                   None   \n",
       "1748            66581               None         None                   None   \n",
       "1995           121583               None         None                   None   \n",
       "2004           170259               None         None                   None   \n",
       "2441           342237               None         None                   None   \n",
       "2589            70492               None         None                   None   \n",
       "2597            77008               None         None                   None   \n",
       "2654            70492               None         None                   None   \n",
       "2746            66581               None         None                   None   \n",
       "\n",
       "     State Code                               Race   Count  \n",
       "111          PR                 Hispanic or Latino  335559  \n",
       "155          PR                 Hispanic or Latino   76349  \n",
       "258          PR  American Indian and Alaska Native   12143  \n",
       "333          FL                 Hispanic or Latino    1066  \n",
       "449          FL          Black or African-American     331  \n",
       "637          PR                 Hispanic or Latino  139967  \n",
       "1437         FL                              White   72211  \n",
       "1747         PR  American Indian and Alaska Native    4031  \n",
       "1748         PR                              Asian     235  \n",
       "1995         PR                 Hispanic or Latino  120705  \n",
       "2004         PR                 Hispanic or Latino  169155  \n",
       "2441         PR                              Asian    2452  \n",
       "2589         PR                 Hispanic or Latino   69936  \n",
       "2597         PR  American Indian and Alaska Native     624  \n",
       "2654         PR  American Indian and Alaska Native     589  \n",
       "2746         PR                 Hispanic or Latino   65521  "
      ]
     },
     "execution_count": 17,
     "metadata": {},
     "output_type": "execute_result"
    }
   ],
   "source": [
    "df[df[\"Average Household Size\"].isnull() == True]"
   ]
  },
  {
   "cell_type": "markdown",
   "metadata": {
    "editable": true
   },
   "source": [
    "- There are lots of missing values in Number of Veterans and Average Household Size columns\n",
    "- But, we can see that other columns have valid data(except for The Villages rows) \n",
    "- Since we are not going to use Number of Veterans and Average Household Size columns, let's skip to the next step."
   ]
  },
  {
   "cell_type": "markdown",
   "metadata": {
    "editable": true
   },
   "source": [
    "### Handling Incorrect Column Types"
   ]
  },
  {
   "cell_type": "markdown",
   "metadata": {
    "editable": true
   },
   "source": [
    "- printSchema() call on demographics dataframe shows that some of the columns have incorrect data types\n",
    "- Specifically, columns that are supposed to be numeric types, are now string types\n",
    "- Let's correct this before move on"
   ]
  },
  {
   "cell_type": "code",
   "execution_count": 40,
   "metadata": {
    "editable": true
   },
   "outputs": [],
   "source": [
    "# first, replace None values with \"0\"\n",
    "df_demographic = df_demographic.na.fill(\"0\")"
   ]
  },
  {
   "cell_type": "code",
   "execution_count": 41,
   "metadata": {
    "editable": true
   },
   "outputs": [
    {
     "data": {
      "text/html": [
       "<div>\n",
       "<style scoped>\n",
       "    .dataframe tbody tr th:only-of-type {\n",
       "        vertical-align: middle;\n",
       "    }\n",
       "\n",
       "    .dataframe tbody tr th {\n",
       "        vertical-align: top;\n",
       "    }\n",
       "\n",
       "    .dataframe thead th {\n",
       "        text-align: right;\n",
       "    }\n",
       "</style>\n",
       "<table border=\"1\" class=\"dataframe\">\n",
       "  <thead>\n",
       "    <tr style=\"text-align: right;\">\n",
       "      <th></th>\n",
       "      <th>City</th>\n",
       "      <th>State</th>\n",
       "      <th>Median Age</th>\n",
       "      <th>Male Population</th>\n",
       "      <th>Female Population</th>\n",
       "      <th>Total Population</th>\n",
       "      <th>Number of Veterans</th>\n",
       "      <th>Foreign-born</th>\n",
       "      <th>Average Household Size</th>\n",
       "      <th>State Code</th>\n",
       "      <th>Race</th>\n",
       "      <th>Count</th>\n",
       "    </tr>\n",
       "  </thead>\n",
       "  <tbody>\n",
       "    <tr>\n",
       "      <th>0</th>\n",
       "      <td>The Villages</td>\n",
       "      <td>Florida</td>\n",
       "      <td>70.5</td>\n",
       "      <td>0</td>\n",
       "      <td>0</td>\n",
       "      <td>72590</td>\n",
       "      <td>15231</td>\n",
       "      <td>4034</td>\n",
       "      <td>0</td>\n",
       "      <td>FL</td>\n",
       "      <td>Hispanic or Latino</td>\n",
       "      <td>1066</td>\n",
       "    </tr>\n",
       "    <tr>\n",
       "      <th>1</th>\n",
       "      <td>The Villages</td>\n",
       "      <td>Florida</td>\n",
       "      <td>70.5</td>\n",
       "      <td>0</td>\n",
       "      <td>0</td>\n",
       "      <td>72590</td>\n",
       "      <td>15231</td>\n",
       "      <td>4034</td>\n",
       "      <td>0</td>\n",
       "      <td>FL</td>\n",
       "      <td>Black or African-American</td>\n",
       "      <td>331</td>\n",
       "    </tr>\n",
       "    <tr>\n",
       "      <th>2</th>\n",
       "      <td>The Villages</td>\n",
       "      <td>Florida</td>\n",
       "      <td>70.5</td>\n",
       "      <td>0</td>\n",
       "      <td>0</td>\n",
       "      <td>72590</td>\n",
       "      <td>15231</td>\n",
       "      <td>4034</td>\n",
       "      <td>0</td>\n",
       "      <td>FL</td>\n",
       "      <td>White</td>\n",
       "      <td>72211</td>\n",
       "    </tr>\n",
       "  </tbody>\n",
       "</table>\n",
       "</div>"
      ],
      "text/plain": [
       "           City    State Median Age Male Population Female Population  \\\n",
       "0  The Villages  Florida       70.5               0                 0   \n",
       "1  The Villages  Florida       70.5               0                 0   \n",
       "2  The Villages  Florida       70.5               0                 0   \n",
       "\n",
       "  Total Population Number of Veterans Foreign-born Average Household Size  \\\n",
       "0            72590              15231         4034                      0   \n",
       "1            72590              15231         4034                      0   \n",
       "2            72590              15231         4034                      0   \n",
       "\n",
       "  State Code                       Race  Count  \n",
       "0         FL         Hispanic or Latino   1066  \n",
       "1         FL  Black or African-American    331  \n",
       "2         FL                      White  72211  "
      ]
     },
     "execution_count": 41,
     "metadata": {},
     "output_type": "execute_result"
    }
   ],
   "source": [
    "df_demographic.select(\"*\").where(df_demographic[\"City\"] == \"The Villages\").toPandas()"
   ]
  },
  {
   "cell_type": "code",
   "execution_count": 42,
   "metadata": {
    "editable": true
   },
   "outputs": [],
   "source": [
    "# let's change column types \n",
    "df_demographic = df_demographic.withColumn(\"Median Age\", df_demographic[\"Median Age\"].cast(DoubleType()))\\\n",
    "                                .withColumn(\"Male Population\", df_demographic[\"Male Population\"].cast(IntegerType()))\\\n",
    "                                .withColumn(\"Female Population\", df_demographic[\"Female Population\"].cast(IntegerType()))\\\n",
    "                                .withColumn(\"Total Population\", df_demographic[\"Total Population\"].cast(IntegerType()))\\\n",
    "                                .withColumn(\"Count\", df_demographic[\"Count\"].cast(IntegerType()))"
   ]
  },
  {
   "cell_type": "code",
   "execution_count": 43,
   "metadata": {
    "editable": true
   },
   "outputs": [
    {
     "name": "stdout",
     "output_type": "stream",
     "text": [
      "root\n",
      " |-- City: string (nullable = false)\n",
      " |-- State: string (nullable = false)\n",
      " |-- Median Age: double (nullable = true)\n",
      " |-- Male Population: integer (nullable = true)\n",
      " |-- Female Population: integer (nullable = true)\n",
      " |-- Total Population: integer (nullable = true)\n",
      " |-- Number of Veterans: string (nullable = false)\n",
      " |-- Foreign-born: string (nullable = false)\n",
      " |-- Average Household Size: string (nullable = false)\n",
      " |-- State Code: string (nullable = false)\n",
      " |-- Race: string (nullable = false)\n",
      " |-- Count: integer (nullable = true)\n",
      "\n"
     ]
    }
   ],
   "source": [
    "df_demographic.printSchema()"
   ]
  },
  {
   "cell_type": "markdown",
   "metadata": {
    "editable": true
   },
   "source": [
    "- Now, let's leave irrelevant columns behind. "
   ]
  },
  {
   "cell_type": "code",
   "execution_count": 44,
   "metadata": {
    "editable": true
   },
   "outputs": [],
   "source": [
    "df_demographic = df_demographic.select(\"City\",\"State\",\"Male Population\",\"Female Population\",\"Total Population\",\"State Code\",\"Race\",\"Count\")"
   ]
  },
  {
   "cell_type": "code",
   "execution_count": 45,
   "metadata": {
    "editable": true
   },
   "outputs": [
    {
     "name": "stdout",
     "output_type": "stream",
     "text": [
      "root\n",
      " |-- City: string (nullable = false)\n",
      " |-- State: string (nullable = false)\n",
      " |-- Male Population: integer (nullable = true)\n",
      " |-- Female Population: integer (nullable = true)\n",
      " |-- Total Population: integer (nullable = true)\n",
      " |-- State Code: string (nullable = false)\n",
      " |-- Race: string (nullable = false)\n",
      " |-- Count: integer (nullable = true)\n",
      "\n"
     ]
    }
   ],
   "source": [
    "df_demographic.printSchema()"
   ]
  },
  {
   "cell_type": "markdown",
   "metadata": {
    "editable": true
   },
   "source": [
    "## Immigrations Data Set"
   ]
  },
  {
   "cell_type": "markdown",
   "metadata": {
    "editable": true
   },
   "source": [
    "### Handling Invalid Values"
   ]
  },
  {
   "cell_type": "code",
   "execution_count": 49,
   "metadata": {
    "editable": true
   },
   "outputs": [
    {
     "name": "stdout",
     "output_type": "stream",
     "text": [
      "root\n",
      " |-- cicid: double (nullable = true)\n",
      " |-- i94yr: double (nullable = true)\n",
      " |-- i94mon: double (nullable = true)\n",
      " |-- i94cit: double (nullable = true)\n",
      " |-- i94res: double (nullable = true)\n",
      " |-- i94port: string (nullable = true)\n",
      " |-- arrdate: double (nullable = true)\n",
      " |-- i94mode: double (nullable = true)\n",
      " |-- i94addr: string (nullable = true)\n",
      " |-- depdate: double (nullable = true)\n",
      " |-- i94bir: double (nullable = true)\n",
      " |-- i94visa: double (nullable = true)\n",
      " |-- count: double (nullable = true)\n",
      " |-- dtadfile: string (nullable = true)\n",
      " |-- visapost: string (nullable = true)\n",
      " |-- occup: string (nullable = true)\n",
      " |-- entdepa: string (nullable = true)\n",
      " |-- entdepd: string (nullable = true)\n",
      " |-- entdepu: string (nullable = true)\n",
      " |-- matflag: string (nullable = true)\n",
      " |-- biryear: double (nullable = true)\n",
      " |-- dtaddto: string (nullable = true)\n",
      " |-- gender: string (nullable = true)\n",
      " |-- insnum: string (nullable = true)\n",
      " |-- airline: string (nullable = true)\n",
      " |-- admnum: double (nullable = true)\n",
      " |-- fltno: string (nullable = true)\n",
      " |-- visatype: string (nullable = true)\n",
      "\n"
     ]
    }
   ],
   "source": [
    "df_immigration.printSchema()"
   ]
  },
  {
   "cell_type": "markdown",
   "metadata": {
    "editable": true
   },
   "source": [
    "- From immigrations data set, we are only going to use i94yr, i94mon, i94cit, i94port, arrdate and visa.\n",
    "- Among those columns, i94port column will be used to join tables.\n",
    "- So let's drop rows with invalid i94port column value"
   ]
  },
  {
   "cell_type": "code",
   "execution_count": 106,
   "metadata": {
    "editable": true
   },
   "outputs": [],
   "source": [
    "valid_city_codes = df_us_city_state.select(\"city_code\").distinct().collect()\n",
    "valid_city_codes = [row.city_code for row in valid_city_codes]"
   ]
  },
  {
   "cell_type": "code",
   "execution_count": 104,
   "metadata": {
    "editable": true
   },
   "outputs": [
    {
     "data": {
      "text/plain": [
       "3096313"
      ]
     },
     "execution_count": 104,
     "metadata": {},
     "output_type": "execute_result"
    }
   ],
   "source": [
    "# printing rows before dropping rows with invalid city_codes \n",
    "df_immigration.select(\"*\").count()"
   ]
  },
  {
   "cell_type": "code",
   "execution_count": 107,
   "metadata": {
    "editable": true
   },
   "outputs": [],
   "source": [
    "# Dropping rows with invalid city_codes (I94ports)\n",
    "df_immigration = df_immigration.filter(df_immigration.i94port.isin(valid_city_codes))"
   ]
  },
  {
   "cell_type": "code",
   "execution_count": 108,
   "metadata": {
    "editable": true
   },
   "outputs": [
    {
     "data": {
      "text/plain": [
       "2834543"
      ]
     },
     "execution_count": 108,
     "metadata": {},
     "output_type": "execute_result"
    }
   ],
   "source": [
    "# printing rows after dropping rows with invalid city_codes \n",
    "df_immigration.select(\"*\").count()"
   ]
  },
  {
   "cell_type": "markdown",
   "metadata": {
    "editable": true
   },
   "source": [
    "- 261,770 rows with invalid I94port were dropped"
   ]
  },
  {
   "cell_type": "markdown",
   "metadata": {
    "editable": true
   },
   "source": [
    "# Step 3: Define the Data Model\n",
    "## 3.1 Conceptual Data Model\n",
    "\n",
    "- The problem we want to solve here, is to check if there's relationship between immigration and demographic of a state.\n",
    "    - Specfically, we want to find out correlation between ethnic distribution of a state and immigration.\n",
    "- Therefore, we are going to use immigration data as fact table and US demographics data as dimension table.\n",
    "- Below is an Entity Relationship Diagram.\n",
    "\n",
    "![ERD](./ERD.PNG)\n",
    "\n",
    "## 3.2 Mapping Out Data Pipelines\n",
    "### fact_immigrations\n",
    "- Extracting relevant columns from immigrations data set\n",
    "    - year : immigration.i94yr\n",
    "    - month : immigration.i94mon\n",
    "    - origin_city : immigration.i94cit\n",
    "    - destination_city : immigration.i94port\n",
    "    - arrival_date : immigartion.arrdate\n",
    "    - visa : immigration.visatype\n",
    "    \n",
    "### dim_foreign_country \n",
    "- Extracting relevant data from I94_SAS_Labels_Description.SAS file \n",
    "- Done in previous cells. (df_foreign_country)\n",
    "\n",
    "### dim_us_city \n",
    "- Extracting relevant data from I94_SAS_Labels_Description.SAS file \n",
    "- Done in previous cells. (df_us_city_state)\n",
    "\n",
    "### dim_demographics\n",
    "- Aggregate population data (male/female, total) over rows with same 'state'\n",
    "    - There's multiple rows with same city/state/population value and only differs in 'race' and 'count'\n",
    "    - Duplicate rows with same city/state/population should be dropped before aggregation\n",
    "- Aggregate race counts over rows with same 'state' and 'race'\n",
    "    - This aggregated data forms race_counts column. race_counts column is type of map(string, int) \n",
    "    - Keys are race and values are population of the race for corresponding state "
   ]
  },
  {
   "cell_type": "markdown",
   "metadata": {
    "editable": true
   },
   "source": [
    "# Step 4: Run Pipelines to Model the Data \n",
    "## 4.1 Create the data model\n",
    "- Since dim_foreign_country and dim_us_city are already made, there's only fact_immigrations and dim_demographics table left to be made."
   ]
  },
  {
   "cell_type": "markdown",
   "metadata": {
    "editable": true
   },
   "source": [
    "### fact_immigrations "
   ]
  },
  {
   "cell_type": "code",
   "execution_count": null,
   "metadata": {
    "editable": true
   },
   "outputs": [],
   "source": [
    "df_immigration.createOrReplaceTempView('immigrations_table')\n",
    "df_fact_immigrations = spark.sql(\"\"\"\n",
    "    SELECT \n",
    "        i94yr as year,\n",
    "        i94mon as month,\n",
    "        i94cit as origin_city,\n",
    "        i94port as destination_city,\n",
    "        arrdate as arrival_date,\n",
    "        (CASE WHEN visatype = '1' \n",
    "            THEN 'business'\n",
    "            ELSE\n",
    "                CASE WHEN visatype = '3' THEN 'student' ELSE \"pleasure\" END\n",
    "        END) as visa\n",
    "    FROM immigrations_table\n",
    "\"\"\")"
   ]
  },
  {
   "cell_type": "code",
   "execution_count": 117,
   "metadata": {
    "editable": true
   },
   "outputs": [
    {
     "data": {
      "text/html": [
       "<div>\n",
       "<style scoped>\n",
       "    .dataframe tbody tr th:only-of-type {\n",
       "        vertical-align: middle;\n",
       "    }\n",
       "\n",
       "    .dataframe tbody tr th {\n",
       "        vertical-align: top;\n",
       "    }\n",
       "\n",
       "    .dataframe thead th {\n",
       "        text-align: right;\n",
       "    }\n",
       "</style>\n",
       "<table border=\"1\" class=\"dataframe\">\n",
       "  <thead>\n",
       "    <tr style=\"text-align: right;\">\n",
       "      <th></th>\n",
       "      <th>year</th>\n",
       "      <th>month</th>\n",
       "      <th>origin_city</th>\n",
       "      <th>destination_city</th>\n",
       "      <th>arrival_date</th>\n",
       "      <th>visa</th>\n",
       "    </tr>\n",
       "  </thead>\n",
       "  <tbody>\n",
       "    <tr>\n",
       "      <th>0</th>\n",
       "      <td>2016.0</td>\n",
       "      <td>4.0</td>\n",
       "      <td>245.0</td>\n",
       "      <td>LOS</td>\n",
       "      <td>20574.0</td>\n",
       "      <td>pleasure</td>\n",
       "    </tr>\n",
       "    <tr>\n",
       "      <th>1</th>\n",
       "      <td>2016.0</td>\n",
       "      <td>4.0</td>\n",
       "      <td>245.0</td>\n",
       "      <td>LOS</td>\n",
       "      <td>20574.0</td>\n",
       "      <td>pleasure</td>\n",
       "    </tr>\n",
       "    <tr>\n",
       "      <th>2</th>\n",
       "      <td>2016.0</td>\n",
       "      <td>4.0</td>\n",
       "      <td>245.0</td>\n",
       "      <td>LOS</td>\n",
       "      <td>20574.0</td>\n",
       "      <td>pleasure</td>\n",
       "    </tr>\n",
       "    <tr>\n",
       "      <th>3</th>\n",
       "      <td>2016.0</td>\n",
       "      <td>4.0</td>\n",
       "      <td>245.0</td>\n",
       "      <td>LOS</td>\n",
       "      <td>20574.0</td>\n",
       "      <td>pleasure</td>\n",
       "    </tr>\n",
       "    <tr>\n",
       "      <th>4</th>\n",
       "      <td>2016.0</td>\n",
       "      <td>4.0</td>\n",
       "      <td>245.0</td>\n",
       "      <td>LOS</td>\n",
       "      <td>20574.0</td>\n",
       "      <td>pleasure</td>\n",
       "    </tr>\n",
       "    <tr>\n",
       "      <th>5</th>\n",
       "      <td>2016.0</td>\n",
       "      <td>4.0</td>\n",
       "      <td>245.0</td>\n",
       "      <td>HHW</td>\n",
       "      <td>20574.0</td>\n",
       "      <td>pleasure</td>\n",
       "    </tr>\n",
       "    <tr>\n",
       "      <th>6</th>\n",
       "      <td>2016.0</td>\n",
       "      <td>4.0</td>\n",
       "      <td>245.0</td>\n",
       "      <td>HHW</td>\n",
       "      <td>20574.0</td>\n",
       "      <td>pleasure</td>\n",
       "    </tr>\n",
       "    <tr>\n",
       "      <th>7</th>\n",
       "      <td>2016.0</td>\n",
       "      <td>4.0</td>\n",
       "      <td>245.0</td>\n",
       "      <td>HHW</td>\n",
       "      <td>20574.0</td>\n",
       "      <td>pleasure</td>\n",
       "    </tr>\n",
       "    <tr>\n",
       "      <th>8</th>\n",
       "      <td>2016.0</td>\n",
       "      <td>4.0</td>\n",
       "      <td>245.0</td>\n",
       "      <td>HOU</td>\n",
       "      <td>20574.0</td>\n",
       "      <td>pleasure</td>\n",
       "    </tr>\n",
       "    <tr>\n",
       "      <th>9</th>\n",
       "      <td>2016.0</td>\n",
       "      <td>4.0</td>\n",
       "      <td>245.0</td>\n",
       "      <td>LOS</td>\n",
       "      <td>20574.0</td>\n",
       "      <td>pleasure</td>\n",
       "    </tr>\n",
       "    <tr>\n",
       "      <th>10</th>\n",
       "      <td>2016.0</td>\n",
       "      <td>4.0</td>\n",
       "      <td>245.0</td>\n",
       "      <td>LOS</td>\n",
       "      <td>20574.0</td>\n",
       "      <td>pleasure</td>\n",
       "    </tr>\n",
       "    <tr>\n",
       "      <th>11</th>\n",
       "      <td>2016.0</td>\n",
       "      <td>4.0</td>\n",
       "      <td>245.0</td>\n",
       "      <td>LOS</td>\n",
       "      <td>20574.0</td>\n",
       "      <td>pleasure</td>\n",
       "    </tr>\n",
       "    <tr>\n",
       "      <th>12</th>\n",
       "      <td>2016.0</td>\n",
       "      <td>4.0</td>\n",
       "      <td>245.0</td>\n",
       "      <td>LOS</td>\n",
       "      <td>20574.0</td>\n",
       "      <td>pleasure</td>\n",
       "    </tr>\n",
       "    <tr>\n",
       "      <th>13</th>\n",
       "      <td>2016.0</td>\n",
       "      <td>4.0</td>\n",
       "      <td>245.0</td>\n",
       "      <td>MIA</td>\n",
       "      <td>20574.0</td>\n",
       "      <td>pleasure</td>\n",
       "    </tr>\n",
       "    <tr>\n",
       "      <th>14</th>\n",
       "      <td>2016.0</td>\n",
       "      <td>4.0</td>\n",
       "      <td>245.0</td>\n",
       "      <td>SFR</td>\n",
       "      <td>20574.0</td>\n",
       "      <td>pleasure</td>\n",
       "    </tr>\n",
       "    <tr>\n",
       "      <th>15</th>\n",
       "      <td>2016.0</td>\n",
       "      <td>4.0</td>\n",
       "      <td>245.0</td>\n",
       "      <td>HOU</td>\n",
       "      <td>20574.0</td>\n",
       "      <td>pleasure</td>\n",
       "    </tr>\n",
       "    <tr>\n",
       "      <th>16</th>\n",
       "      <td>2016.0</td>\n",
       "      <td>4.0</td>\n",
       "      <td>245.0</td>\n",
       "      <td>HOU</td>\n",
       "      <td>20574.0</td>\n",
       "      <td>pleasure</td>\n",
       "    </tr>\n",
       "    <tr>\n",
       "      <th>17</th>\n",
       "      <td>2016.0</td>\n",
       "      <td>4.0</td>\n",
       "      <td>245.0</td>\n",
       "      <td>LOS</td>\n",
       "      <td>20574.0</td>\n",
       "      <td>pleasure</td>\n",
       "    </tr>\n",
       "    <tr>\n",
       "      <th>18</th>\n",
       "      <td>2016.0</td>\n",
       "      <td>4.0</td>\n",
       "      <td>245.0</td>\n",
       "      <td>DAL</td>\n",
       "      <td>20574.0</td>\n",
       "      <td>pleasure</td>\n",
       "    </tr>\n",
       "    <tr>\n",
       "      <th>19</th>\n",
       "      <td>2016.0</td>\n",
       "      <td>4.0</td>\n",
       "      <td>245.0</td>\n",
       "      <td>NYC</td>\n",
       "      <td>20573.0</td>\n",
       "      <td>pleasure</td>\n",
       "    </tr>\n",
       "  </tbody>\n",
       "</table>\n",
       "</div>"
      ],
      "text/plain": [
       "      year  month  origin_city destination_city  arrival_date      visa\n",
       "0   2016.0    4.0        245.0              LOS       20574.0  pleasure\n",
       "1   2016.0    4.0        245.0              LOS       20574.0  pleasure\n",
       "2   2016.0    4.0        245.0              LOS       20574.0  pleasure\n",
       "3   2016.0    4.0        245.0              LOS       20574.0  pleasure\n",
       "4   2016.0    4.0        245.0              LOS       20574.0  pleasure\n",
       "5   2016.0    4.0        245.0              HHW       20574.0  pleasure\n",
       "6   2016.0    4.0        245.0              HHW       20574.0  pleasure\n",
       "7   2016.0    4.0        245.0              HHW       20574.0  pleasure\n",
       "8   2016.0    4.0        245.0              HOU       20574.0  pleasure\n",
       "9   2016.0    4.0        245.0              LOS       20574.0  pleasure\n",
       "10  2016.0    4.0        245.0              LOS       20574.0  pleasure\n",
       "11  2016.0    4.0        245.0              LOS       20574.0  pleasure\n",
       "12  2016.0    4.0        245.0              LOS       20574.0  pleasure\n",
       "13  2016.0    4.0        245.0              MIA       20574.0  pleasure\n",
       "14  2016.0    4.0        245.0              SFR       20574.0  pleasure\n",
       "15  2016.0    4.0        245.0              HOU       20574.0  pleasure\n",
       "16  2016.0    4.0        245.0              HOU       20574.0  pleasure\n",
       "17  2016.0    4.0        245.0              LOS       20574.0  pleasure\n",
       "18  2016.0    4.0        245.0              DAL       20574.0  pleasure\n",
       "19  2016.0    4.0        245.0              NYC       20573.0  pleasure"
      ]
     },
     "execution_count": 117,
     "metadata": {},
     "output_type": "execute_result"
    }
   ],
   "source": [
    "df_fact_immigrations.limit(20).toPandas()"
   ]
  },
  {
   "cell_type": "markdown",
   "metadata": {
    "editable": true
   },
   "source": [
    "### dim_demographics"
   ]
  },
  {
   "cell_type": "markdown",
   "metadata": {
    "editable": true
   },
   "source": [
    "- Aggregate population data (male/female, total) over rows with same 'state'\n",
    "    - There's multiple rows with same city/state/population value and only differs in 'race' and 'count'\n",
    "    - Duplicate rows with same city/state/population should be dropped before aggregation\n",
    "- Aggregate race counts over rows with same 'state' and 'race'\n",
    "    - This aggregated data forms race_counts column. race_counts column is type of map(string, int)\n",
    "    - Keys are race and values are population of the race for corresponding state"
   ]
  },
  {
   "cell_type": "markdown",
   "metadata": {
    "editable": true
   },
   "source": [
    "#### Aggregating Population Data"
   ]
  },
  {
   "cell_type": "code",
   "execution_count": 126,
   "metadata": {
    "editable": true
   },
   "outputs": [
    {
     "name": "stdout",
     "output_type": "stream",
     "text": [
      "+------+-------------+---------------+-----------------+----------------+----------+--------------------+-----+\n",
      "|  City|        State|Male Population|Female Population|Total Population|State Code|                Race|Count|\n",
      "+------+-------------+---------------+-----------------+----------------+----------+--------------------+-----+\n",
      "|Quincy|Massachusetts|          44129|            49500|           93629|        MA|               White|58723|\n",
      "|Quincy|Massachusetts|          44129|            49500|           93629|        MA|  Hispanic or Latino| 2566|\n",
      "|Quincy|Massachusetts|          44129|            49500|           93629|        MA|American Indian a...|  351|\n",
      "|Quincy|Massachusetts|          44129|            49500|           93629|        MA|Black or African-...| 3917|\n",
      "|Quincy|Massachusetts|          44129|            49500|           93629|        MA|               Asian|30473|\n",
      "+------+-------------+---------------+-----------------+----------------+----------+--------------------+-----+\n",
      "\n"
     ]
    }
   ],
   "source": [
    "# Double checking that there's duplicate rows with same city/state/population values\n",
    "df_demographic.filter(df_demographic['City'] == 'Quincy').show()"
   ]
  },
  {
   "cell_type": "code",
   "execution_count": 128,
   "metadata": {
    "editable": true
   },
   "outputs": [
    {
     "name": "stdout",
     "output_type": "stream",
     "text": [
      "+----------------+-------------+---------------+-----------------+----------------+----------+\n",
      "|            city|        state|male_population|female_population|total_population|state_code|\n",
      "+----------------+-------------+---------------+-----------------+----------------+----------+\n",
      "|   Silver Spring|     Maryland|          40601|            41862|           82463|        MD|\n",
      "|          Quincy|Massachusetts|          44129|            49500|           93629|        MA|\n",
      "|          Hoover|      Alabama|          38040|            46799|           84839|        AL|\n",
      "|Rancho Cucamonga|   California|          88127|            87105|          175232|        CA|\n",
      "|          Newark|   New Jersey|         138040|           143873|          281913|        NJ|\n",
      "+----------------+-------------+---------------+-----------------+----------------+----------+\n",
      "only showing top 5 rows\n",
      "\n"
     ]
    }
   ],
   "source": [
    "# Selecting city/state/population columns to drop duplicates and \n",
    "# change column names so they does not include spaces\n",
    "df_demographic.createOrReplaceTempView('immigrations')\n",
    "df_demo_populations = spark.sql(\"\"\"\n",
    "    SELECT City as city,\n",
    "           State as state,\n",
    "           `Male Population` as male_population,\n",
    "           `Female Population` as female_population,\n",
    "           `Total Population`as total_population,\n",
    "           `State Code` as state_code\n",
    "    FROM immigrations\n",
    "\"\"\")\n",
    "\n",
    "df_demo_populations.show(5)"
   ]
  },
  {
   "cell_type": "code",
   "execution_count": 130,
   "metadata": {
    "editable": true
   },
   "outputs": [],
   "source": [
    "# Drop duplicate rows from df_demo_populations \n",
    "df_demo_populations = df_demo_populations.dropDuplicates()"
   ]
  },
  {
   "cell_type": "code",
   "execution_count": 138,
   "metadata": {
    "editable": true
   },
   "outputs": [
    {
     "data": {
      "text/plain": [
       "True"
      ]
     },
     "execution_count": 138,
     "metadata": {},
     "output_type": "execute_result"
    }
   ],
   "source": [
    "# Check if duplicate rows were dropped \n",
    "rows_count = df_demo_populations.select('*').count()\n",
    "cities_count = df_demo_populations.select('city', 'state').distinct().count()\n",
    "rows_count == cities_count"
   ]
  },
  {
   "cell_type": "code",
   "execution_count": 147,
   "metadata": {
    "editable": true
   },
   "outputs": [
    {
     "name": "stdout",
     "output_type": "stream",
     "text": [
      "+------------+----------+---------------+-----------------+----------------+\n",
      "|       state|state_code|male_population|female_population|total_population|\n",
      "+------------+----------+---------------+-----------------+----------------+\n",
      "| Mississippi|        MS|         112147|           130536|          242683|\n",
      "|        Utah|        UT|         530818|           519773|         1050591|\n",
      "|South Dakota|        SD|         122718|           122380|          245098|\n",
      "|    Kentucky|        KY|         452483|           477394|          929877|\n",
      "|  California|        CA|       12278281|         12544179|        24822460|\n",
      "+------------+----------+---------------+-----------------+----------------+\n",
      "only showing top 5 rows\n",
      "\n"
     ]
    }
   ],
   "source": [
    "# Aggregate population info over states \n",
    "df_demo_populations.createOrReplaceTempView(\"demo_populations\")\n",
    "df_state_populations = spark.sql(\"\"\"\n",
    "    SELECT state,\n",
    "           state_code, \n",
    "           SUM(male_population) as male_population,\n",
    "           SUM(female_population) as female_population,\n",
    "           SUM(total_population) as total_population\n",
    "    FROM demo_populations\n",
    "    GROUP BY state, state_code\n",
    "\"\"\")\n",
    "df_state_populations.show(5)"
   ]
  },
  {
   "cell_type": "code",
   "execution_count": 171,
   "metadata": {
    "editable": true
   },
   "outputs": [],
   "source": [
    "df_state_populations.createOrReplaceTempView(\"state_populations\")"
   ]
  },
  {
   "cell_type": "markdown",
   "metadata": {
    "editable": true
   },
   "source": [
    "#### Aggregating Race Counts"
   ]
  },
  {
   "cell_type": "code",
   "execution_count": 139,
   "metadata": {
    "editable": true
   },
   "outputs": [
    {
     "name": "stdout",
     "output_type": "stream",
     "text": [
      "+----------------+-------------+----------+--------------------+-----+\n",
      "|            city|        state|state_code|                race|count|\n",
      "+----------------+-------------+----------+--------------------+-----+\n",
      "|   Silver Spring|     Maryland|        MD|  Hispanic or Latino|25924|\n",
      "|          Quincy|Massachusetts|        MA|               White|58723|\n",
      "|          Hoover|      Alabama|        AL|               Asian| 4759|\n",
      "|Rancho Cucamonga|   California|        CA|Black or African-...|24437|\n",
      "|          Newark|   New Jersey|        NJ|               White|76402|\n",
      "+----------------+-------------+----------+--------------------+-----+\n",
      "only showing top 5 rows\n",
      "\n"
     ]
    }
   ],
   "source": [
    "# Selecting city/state/state_cod/race/count to aggregate race count over city & state \n",
    "df_race_counts = spark.sql(\"\"\"\n",
    "    SELECT City as city,\n",
    "           State as state,\n",
    "           `State Code` as state_code,\n",
    "           Race as race,\n",
    "           Count as count\n",
    "    FROM immigrations\n",
    "\"\"\")\n",
    "df_race_counts.show(5)"
   ]
  },
  {
   "cell_type": "code",
   "execution_count": 186,
   "metadata": {
    "editable": true
   },
   "outputs": [
    {
     "data": {
      "text/html": [
       "<div>\n",
       "<style scoped>\n",
       "    .dataframe tbody tr th:only-of-type {\n",
       "        vertical-align: middle;\n",
       "    }\n",
       "\n",
       "    .dataframe tbody tr th {\n",
       "        vertical-align: top;\n",
       "    }\n",
       "\n",
       "    .dataframe thead th {\n",
       "        text-align: right;\n",
       "    }\n",
       "</style>\n",
       "<table border=\"1\" class=\"dataframe\">\n",
       "  <thead>\n",
       "    <tr style=\"text-align: right;\">\n",
       "      <th></th>\n",
       "      <th>state</th>\n",
       "      <th>state_code</th>\n",
       "      <th>race</th>\n",
       "      <th>count</th>\n",
       "    </tr>\n",
       "  </thead>\n",
       "  <tbody>\n",
       "    <tr>\n",
       "      <th>0</th>\n",
       "      <td>Massachusetts</td>\n",
       "      <td>MA</td>\n",
       "      <td>American Indian and Alaska Native</td>\n",
       "      <td>17060</td>\n",
       "    </tr>\n",
       "    <tr>\n",
       "      <th>1</th>\n",
       "      <td>Massachusetts</td>\n",
       "      <td>MA</td>\n",
       "      <td>Asian</td>\n",
       "      <td>218113</td>\n",
       "    </tr>\n",
       "    <tr>\n",
       "      <th>2</th>\n",
       "      <td>Massachusetts</td>\n",
       "      <td>MA</td>\n",
       "      <td>Black or African-American</td>\n",
       "      <td>378624</td>\n",
       "    </tr>\n",
       "    <tr>\n",
       "      <th>3</th>\n",
       "      <td>Massachusetts</td>\n",
       "      <td>MA</td>\n",
       "      <td>Hispanic or Latino</td>\n",
       "      <td>434271</td>\n",
       "    </tr>\n",
       "    <tr>\n",
       "      <th>4</th>\n",
       "      <td>Massachusetts</td>\n",
       "      <td>MA</td>\n",
       "      <td>White</td>\n",
       "      <td>1272935</td>\n",
       "    </tr>\n",
       "  </tbody>\n",
       "</table>\n",
       "</div>"
      ],
      "text/plain": [
       "           state state_code                               race    count\n",
       "0  Massachusetts         MA  American Indian and Alaska Native    17060\n",
       "1  Massachusetts         MA                              Asian   218113\n",
       "2  Massachusetts         MA          Black or African-American   378624\n",
       "3  Massachusetts         MA                 Hispanic or Latino   434271\n",
       "4  Massachusetts         MA                              White  1272935"
      ]
     },
     "execution_count": 186,
     "metadata": {},
     "output_type": "execute_result"
    }
   ],
   "source": [
    "# Aggregate count over state/race \n",
    "df_race_counts.createOrReplaceTempView('race_counts')\n",
    "df_agg_counts = spark.sql(\"\"\"\n",
    "    SELECT state, state_code, race, SUM(count) as count\n",
    "    FROM race_counts\n",
    "    GROUP BY state, state_code, race\n",
    "    ORDER BY race\n",
    "\"\"\")\n",
    "df_agg_counts.filter(df_agg_counts['state_code'] == \"MA\").toPandas()"
   ]
  },
  {
   "cell_type": "code",
   "execution_count": 181,
   "metadata": {
    "editable": true
   },
   "outputs": [],
   "source": [
    "from pyspark.sql.functions import collect_set, split, col"
   ]
  },
  {
   "cell_type": "code",
   "execution_count": 188,
   "metadata": {
    "editable": true
   },
   "outputs": [],
   "source": [
    "# Integrate race-count column values into one row based on states\n",
    "# race counts are oredered by alphabetically \n",
    "df_state_race_counts = df_agg_counts.groupBy('state', 'state_code').agg(collect_set('count').alias('counts'))"
   ]
  },
  {
   "cell_type": "code",
   "execution_count": 189,
   "metadata": {
    "editable": true
   },
   "outputs": [
    {
     "name": "stdout",
     "output_type": "stream",
     "text": [
      "+------------+----------+--------------------+\n",
      "|       state|state_code|              counts|\n",
      "+------------+----------+--------------------+\n",
      "| Mississippi|        MS|[7264, 2587, 323,...|\n",
      "|South Dakota|        SD|[6859, 13121, 137...|\n",
      "|        Utah|        UT|[48801, 889798, 2...|\n",
      "|    Kentucky|        KY|[50478, 32667, 20...|\n",
      "|  California|        CA|[9856464, 4543730...|\n",
      "+------------+----------+--------------------+\n",
      "only showing top 5 rows\n",
      "\n"
     ]
    }
   ],
   "source": [
    "df_state_race_counts.show(5)"
   ]
  },
  {
   "cell_type": "code",
   "execution_count": 190,
   "metadata": {
    "editable": true
   },
   "outputs": [],
   "source": [
    "df_state_race_counts.createOrReplaceTempView(\"state_race_counts\")\n",
    "df_state_races = spark.sql(\"\"\"\n",
    "    SELECT state,\n",
    "           state_code,\n",
    "           counts[0] as indian_alaska,\n",
    "           counts[1] as asian,\n",
    "           counts[2] as black,\n",
    "           counts[3] as hispanic_latino,\n",
    "           counts[4] as white\n",
    "    FROM state_race_counts\n",
    "\"\"\")"
   ]
  },
  {
   "cell_type": "code",
   "execution_count": 191,
   "metadata": {
    "editable": true
   },
   "outputs": [
    {
     "data": {
      "text/html": [
       "<div>\n",
       "<style scoped>\n",
       "    .dataframe tbody tr th:only-of-type {\n",
       "        vertical-align: middle;\n",
       "    }\n",
       "\n",
       "    .dataframe tbody tr th {\n",
       "        vertical-align: top;\n",
       "    }\n",
       "\n",
       "    .dataframe thead th {\n",
       "        text-align: right;\n",
       "    }\n",
       "</style>\n",
       "<table border=\"1\" class=\"dataframe\">\n",
       "  <thead>\n",
       "    <tr style=\"text-align: right;\">\n",
       "      <th></th>\n",
       "      <th>state</th>\n",
       "      <th>state_code</th>\n",
       "      <th>indian_alaska</th>\n",
       "      <th>asian</th>\n",
       "      <th>black</th>\n",
       "      <th>hispanic_latino</th>\n",
       "      <th>white</th>\n",
       "    </tr>\n",
       "  </thead>\n",
       "  <tbody>\n",
       "    <tr>\n",
       "      <th>0</th>\n",
       "      <td>Mississippi</td>\n",
       "      <td>MS</td>\n",
       "      <td>7264</td>\n",
       "      <td>2587</td>\n",
       "      <td>323</td>\n",
       "      <td>71645</td>\n",
       "      <td>167366</td>\n",
       "    </tr>\n",
       "    <tr>\n",
       "      <th>1</th>\n",
       "      <td>South Dakota</td>\n",
       "      <td>SD</td>\n",
       "      <td>6859</td>\n",
       "      <td>13121</td>\n",
       "      <td>13782</td>\n",
       "      <td>12359</td>\n",
       "      <td>213281</td>\n",
       "    </tr>\n",
       "    <tr>\n",
       "      <th>2</th>\n",
       "      <td>Utah</td>\n",
       "      <td>UT</td>\n",
       "      <td>48801</td>\n",
       "      <td>889798</td>\n",
       "      <td>21893</td>\n",
       "      <td>18746</td>\n",
       "      <td>201695</td>\n",
       "    </tr>\n",
       "    <tr>\n",
       "      <th>3</th>\n",
       "      <td>Kentucky</td>\n",
       "      <td>KY</td>\n",
       "      <td>50478</td>\n",
       "      <td>32667</td>\n",
       "      <td>202749</td>\n",
       "      <td>705790</td>\n",
       "      <td>7772</td>\n",
       "    </tr>\n",
       "    <tr>\n",
       "      <th>4</th>\n",
       "      <td>California</td>\n",
       "      <td>CA</td>\n",
       "      <td>9856464</td>\n",
       "      <td>4543730</td>\n",
       "      <td>2047009</td>\n",
       "      <td>14905129</td>\n",
       "      <td>401386</td>\n",
       "    </tr>\n",
       "  </tbody>\n",
       "</table>\n",
       "</div>"
      ],
      "text/plain": [
       "          state state_code  indian_alaska    asian    black  hispanic_latino  \\\n",
       "0   Mississippi         MS           7264     2587      323            71645   \n",
       "1  South Dakota         SD           6859    13121    13782            12359   \n",
       "2          Utah         UT          48801   889798    21893            18746   \n",
       "3      Kentucky         KY          50478    32667   202749           705790   \n",
       "4    California         CA        9856464  4543730  2047009         14905129   \n",
       "\n",
       "    white  \n",
       "0  167366  \n",
       "1  213281  \n",
       "2  201695  \n",
       "3    7772  \n",
       "4  401386  "
      ]
     },
     "execution_count": 191,
     "metadata": {},
     "output_type": "execute_result"
    }
   ],
   "source": [
    "df_state_races.limit(5).toPandas()"
   ]
  },
  {
   "cell_type": "code",
   "execution_count": 192,
   "metadata": {
    "editable": true
   },
   "outputs": [],
   "source": [
    "df_state_races.createOrReplaceTempView(\"state_races\")"
   ]
  },
  {
   "cell_type": "markdown",
   "metadata": {
    "editable": true
   },
   "source": [
    "#### Merging Two Tables \n",
    "- Now we have state wise population table and race table\n",
    "- Merging the two table becomes dim_demographics"
   ]
  },
  {
   "cell_type": "code",
   "execution_count": 193,
   "metadata": {
    "editable": true
   },
   "outputs": [],
   "source": [
    "df_dim_demographics = spark.sql(\"\"\"\n",
    "    SELECT sp.state,\n",
    "           sp.state_code,\n",
    "           male_population,\n",
    "           female_population,\n",
    "           total_population,\n",
    "           indian_alaska as indian_alaskan_population,\n",
    "           asian as asian_population,\n",
    "           black as black_population,\n",
    "           hispanic_latino as hispanic_latino_population,\n",
    "           white as white_population\n",
    "    FROM state_populations sp\n",
    "    JOIN state_races sr\n",
    "    ON sp.state_code = sr.state_code\n",
    "\"\"\")"
   ]
  },
  {
   "cell_type": "code",
   "execution_count": 194,
   "metadata": {
    "editable": true
   },
   "outputs": [
    {
     "data": {
      "text/html": [
       "<div>\n",
       "<style scoped>\n",
       "    .dataframe tbody tr th:only-of-type {\n",
       "        vertical-align: middle;\n",
       "    }\n",
       "\n",
       "    .dataframe tbody tr th {\n",
       "        vertical-align: top;\n",
       "    }\n",
       "\n",
       "    .dataframe thead th {\n",
       "        text-align: right;\n",
       "    }\n",
       "</style>\n",
       "<table border=\"1\" class=\"dataframe\">\n",
       "  <thead>\n",
       "    <tr style=\"text-align: right;\">\n",
       "      <th></th>\n",
       "      <th>state</th>\n",
       "      <th>state_code</th>\n",
       "      <th>male_population</th>\n",
       "      <th>female_population</th>\n",
       "      <th>total_population</th>\n",
       "      <th>indian_alaskan_population</th>\n",
       "      <th>asian_population</th>\n",
       "      <th>black_population</th>\n",
       "      <th>hispanic_latino_population</th>\n",
       "      <th>white_population</th>\n",
       "    </tr>\n",
       "  </thead>\n",
       "  <tbody>\n",
       "    <tr>\n",
       "      <th>0</th>\n",
       "      <td>Mississippi</td>\n",
       "      <td>MS</td>\n",
       "      <td>112147</td>\n",
       "      <td>130536</td>\n",
       "      <td>242683</td>\n",
       "      <td>7264</td>\n",
       "      <td>2587</td>\n",
       "      <td>323</td>\n",
       "      <td>71645</td>\n",
       "      <td>167366</td>\n",
       "    </tr>\n",
       "    <tr>\n",
       "      <th>1</th>\n",
       "      <td>Utah</td>\n",
       "      <td>UT</td>\n",
       "      <td>530818</td>\n",
       "      <td>519773</td>\n",
       "      <td>1050591</td>\n",
       "      <td>48801</td>\n",
       "      <td>889798</td>\n",
       "      <td>21893</td>\n",
       "      <td>18746</td>\n",
       "      <td>201695</td>\n",
       "    </tr>\n",
       "    <tr>\n",
       "      <th>2</th>\n",
       "      <td>South Dakota</td>\n",
       "      <td>SD</td>\n",
       "      <td>122718</td>\n",
       "      <td>122380</td>\n",
       "      <td>245098</td>\n",
       "      <td>6859</td>\n",
       "      <td>13121</td>\n",
       "      <td>13782</td>\n",
       "      <td>12359</td>\n",
       "      <td>213281</td>\n",
       "    </tr>\n",
       "    <tr>\n",
       "      <th>3</th>\n",
       "      <td>Kentucky</td>\n",
       "      <td>KY</td>\n",
       "      <td>452483</td>\n",
       "      <td>477394</td>\n",
       "      <td>929877</td>\n",
       "      <td>50478</td>\n",
       "      <td>32667</td>\n",
       "      <td>202749</td>\n",
       "      <td>705790</td>\n",
       "      <td>7772</td>\n",
       "    </tr>\n",
       "    <tr>\n",
       "      <th>4</th>\n",
       "      <td>California</td>\n",
       "      <td>CA</td>\n",
       "      <td>12278281</td>\n",
       "      <td>12544179</td>\n",
       "      <td>24822460</td>\n",
       "      <td>9856464</td>\n",
       "      <td>4543730</td>\n",
       "      <td>2047009</td>\n",
       "      <td>14905129</td>\n",
       "      <td>401386</td>\n",
       "    </tr>\n",
       "  </tbody>\n",
       "</table>\n",
       "</div>"
      ],
      "text/plain": [
       "          state state_code  male_population  female_population  \\\n",
       "0   Mississippi         MS           112147             130536   \n",
       "1          Utah         UT           530818             519773   \n",
       "2  South Dakota         SD           122718             122380   \n",
       "3      Kentucky         KY           452483             477394   \n",
       "4    California         CA         12278281           12544179   \n",
       "\n",
       "   total_population  indian_alaskan_population  asian_population  \\\n",
       "0            242683                       7264              2587   \n",
       "1           1050591                      48801            889798   \n",
       "2            245098                       6859             13121   \n",
       "3            929877                      50478             32667   \n",
       "4          24822460                    9856464           4543730   \n",
       "\n",
       "   black_population  hispanic_latino_population  white_population  \n",
       "0               323                       71645            167366  \n",
       "1             21893                       18746            201695  \n",
       "2             13782                       12359            213281  \n",
       "3            202749                      705790              7772  \n",
       "4           2047009                    14905129            401386  "
      ]
     },
     "execution_count": 194,
     "metadata": {},
     "output_type": "execute_result"
    }
   ],
   "source": [
    "df_dim_demographics.limit(5).toPandas()"
   ]
  },
  {
   "cell_type": "markdown",
   "metadata": {
    "editable": true
   },
   "source": [
    "## Storing Tables\n",
    "- 4 tables are now created. \n",
    "    - dim_foriegn_country\n",
    "    - dim_us_city\n",
    "    - dim_demographics\n",
    "    - fact_immigrations\n",
    "- Let's store these tables as last step of the pipeline"
   ]
  },
  {
   "cell_type": "code",
   "execution_count": 197,
   "metadata": {
    "editable": true
   },
   "outputs": [],
   "source": [
    "df_foreign_country.write.mode(\"overwrite\").csv('./output/dim_foreign_country.csv')\n",
    "df_us_city_state.write.mode(\"overwrite\").csv('./output/dim_us_city.csv')\n",
    "df_dim_demographics.write.mode(\"overwrite\").csv('./output/dim_demographics.csv')\n",
    "df_fact_immigrations.write.mode(\"overwrite\").partitionBy(\"destination_city\").parquet('./output/fact_immigrations.parquet')"
   ]
  },
  {
   "cell_type": "markdown",
   "metadata": {
    "editable": true
   },
   "source": [
    "## 4.2 Data Quality Checks\n",
    "- Fact table is extracted and loaded without transformation from cleaned immigrations data set. \n",
    "- dim_foreign_country and dim_us_city are also extracted and loaded from cleaned data. \n",
    "- dim_demographics is the one which went through the most transformation. \n",
    "- dim_demographics deserves a good quality check"
   ]
  },
  {
   "cell_type": "code",
   "execution_count": 208,
   "metadata": {
    "editable": true
   },
   "outputs": [
    {
     "data": {
      "text/plain": [
       "48"
      ]
     },
     "execution_count": 208,
     "metadata": {},
     "output_type": "execute_result"
    }
   ],
   "source": [
    "# Let's check if total population match up with race populations \n",
    "df_dim_demographics.createOrReplaceTempView(\"dim_demographics\")\n",
    "df_check = spark.sql(\"\"\"\n",
    "    SELECT state_code,\n",
    "           total_population as total,\n",
    "           indian_alaskan_population as indian,\n",
    "           asian_population as asian,\n",
    "           black_population as black,\n",
    "           hispanic_latino_population as hispanic,\n",
    "           white_population as white,\n",
    "           total_population - (indian_alaskan_population + asian_population + black_population + hispanic_latino_population + white_population) as dif\n",
    "    FROM dim_demographics\n",
    "    WHERE total_population != (indian_alaskan_population + asian_population + black_population + hispanic_latino_population + white_population)\n",
    "\"\"\")\n",
    "\n",
    "df_check.count()"
   ]
  },
  {
   "cell_type": "markdown",
   "metadata": {
    "editable": true
   },
   "source": [
    "- In 48 states, numbers did not match up\n",
    "- Let's compare source data set and dim_demographics"
   ]
  },
  {
   "cell_type": "code",
   "execution_count": 216,
   "metadata": {
    "editable": true
   },
   "outputs": [],
   "source": [
    "df_demographic.createOrReplaceTempView(\"demo_source\")\n",
    "race_sum_over_state = spark.sql(\"\"\"\n",
    "    SELECT `State Code` as state_code,\n",
    "            SUM(Count) as race_total\n",
    "    FROM demo_source\n",
    "    GROUP BY `State Code`\n",
    "\"\"\")"
   ]
  },
  {
   "cell_type": "code",
   "execution_count": 217,
   "metadata": {
    "editable": true
   },
   "outputs": [],
   "source": [
    "race_sum_over_state.createOrReplaceTempView(\"race_sum_from_source\")"
   ]
  },
  {
   "cell_type": "code",
   "execution_count": 229,
   "metadata": {
    "editable": true
   },
   "outputs": [
    {
     "name": "stdout",
     "output_type": "stream",
     "text": [
      "+----------+--------------+----------+--------------+\n",
      "|state_code|total_dim_demo|race_total|dim_race_total|\n",
      "+----------+--------------+----------+--------------+\n",
      "+----------+--------------+----------+--------------+\n",
      "\n"
     ]
    }
   ],
   "source": [
    "spark.sql(\"\"\"\n",
    "    SELECT dd.state_code,\n",
    "           total_population as total_dim_demo,\n",
    "           race_total,\n",
    "           (indian_alaskan_population + asian_population + black_population + hispanic_latino_population + white_population) as dim_race_total\n",
    "    FROM dim_demographics dd\n",
    "    JOIN race_sum_from_source src\n",
    "    ON dd.state_code = src.state_code\n",
    "    WHERE (indian_alaskan_population + asian_population + black_population + hispanic_latino_population + white_population) != race_total\n",
    "\"\"\").show()"
   ]
  },
  {
   "cell_type": "markdown",
   "metadata": {
    "editable": true
   },
   "source": [
    "- It seems that numbers did not match up even in the data source, and our transformation was not wrong.\n",
    "- It would have been much cleaner result if numbers from source were matched up, but we can still use population counts over race as reference\n",
    "- Also, we have verified that there were no error in transforming demographics data"
   ]
  },
  {
   "cell_type": "markdown",
   "metadata": {
    "editable": true
   },
   "source": [
    "## 4.3 Data dictionary \n",
    "### fact_immigrations\n",
    "- year : 4 digit year\n",
    "- month : numeric month\n",
    "- origin_country : immigrant's origination country code (3 digit number)\n",
    "- destination_city : immigrant's destination US city (3 capital letters) \n",
    "- arrival_date : arrival date in SAS date numeric\n",
    "- visa : visa type (business, pleasure, student)\n",
    "\n",
    "### dim_foreign_country \n",
    "- country_code : foreign country code (3 digit number, match with fact origin_country)\n",
    "- country_name : name of the country \n",
    "\n",
    "### dim_us_city \n",
    "- city_code : US city code (3 capital letters, match with fact destination_city)\n",
    "- state_code : State code of the city (2 Capital letters) \n",
    "\n",
    "### dim_demographics \n",
    "- state : state name \n",
    "- state_code : State code of the city (2 Capital letters) \n",
    "- male_population : Male population count\n",
    "- female_population : Female population count\n",
    "- total_population : Total population count\n",
    "- indian_alaskan_population : Indian and Alaska native population count\n",
    "- asian_population : Asian population count\n",
    "- black_population : Black and African-American population count \n",
    "- hispanic_latino_population : Hispanic and Latino population count\n",
    "- white_population : White population count"
   ]
  },
  {
   "cell_type": "markdown",
   "metadata": {
    "editable": true
   },
   "source": [
    "# Step 5: Complete Project Write Up\n",
    "Clearly state the rationale for the choice of tools and technologies for the project.\n",
    "\n",
    "- For exploring small data set, Pandas was used since it has familiar API and good performance on in memory data. In other instances, Spark was used. Reasons of choosing Spark are:\n",
    "    - Can read and write various file types\n",
    "    - Schema on read is supported\n",
    "    - Great performance on distributed data set "
   ]
  },
  {
   "cell_type": "markdown",
   "metadata": {
    "editable": true
   },
   "source": [
    "Propose how often the data should be updated and why.\n",
    "\n",
    "- It depends on analytical requirements. Since what we want to see is correlation between number of immigrants and state demographic, monthly or even yearly update would be sufficient."
   ]
  },
  {
   "cell_type": "markdown",
   "metadata": {
    "editable": true
   },
   "source": [
    "Write a description of how you would approach the problem differently under the following scenarios:"
   ]
  },
  {
   "cell_type": "markdown",
   "metadata": {
    "editable": true
   },
   "source": [
    "- The data was increased by 100x.\n",
    "    - I would horizontally scale up Spark clusters. \n",
    "- The data populates a dashboard that must be updated on a daily basis by 7am every day.\n",
    "    - I would use task schedulers such as Airflow. Creating DAG out of above codes would be done in no time. \n",
    "- The database needed to be accessed by 100+ people.\n",
    "    - In this case, I would make OLAP cubes and store those in separate NoSQL DB. "
   ]
  }
 ],
 "metadata": {
  "kernelspec": {
   "display_name": "Python 3",
   "language": "python",
   "name": "python3"
  },
  "language_info": {
   "codemirror_mode": {
    "name": "ipython",
    "version": 3
   },
   "file_extension": ".py",
   "mimetype": "text/x-python",
   "name": "python",
   "nbconvert_exporter": "python",
   "pygments_lexer": "ipython3",
   "version": "3.6.3"
  },
  "toc": {
   "base_numbering": 1,
   "nav_menu": {},
   "number_sections": true,
   "sideBar": true,
   "skip_h1_title": false,
   "title_cell": "Table of Contents",
   "title_sidebar": "Contents",
   "toc_cell": false,
   "toc_position": {},
   "toc_section_display": true,
   "toc_window_display": false
  }
 },
 "nbformat": 4,
 "nbformat_minor": 4
}
